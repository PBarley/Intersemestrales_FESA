{
 "cells": [
  {
   "cell_type": "markdown",
   "id": "b348d4e5",
   "metadata": {},
   "source": [
    "## Iloc and Loc"
   ]
  },
  {
   "cell_type": "code",
   "execution_count": null,
   "id": "e499fd37",
   "metadata": {},
   "outputs": [],
   "source": [
    "import pandas as pd\n",
    "import numpy as np"
   ]
  },
  {
   "cell_type": "code",
   "execution_count": 4,
   "id": "b3513346",
   "metadata": {
    "scrolled": false
   },
   "outputs": [
    {
     "data": {
      "text/html": [
       "<div>\n",
       "<style scoped>\n",
       "    .dataframe tbody tr th:only-of-type {\n",
       "        vertical-align: middle;\n",
       "    }\n",
       "\n",
       "    .dataframe tbody tr th {\n",
       "        vertical-align: top;\n",
       "    }\n",
       "\n",
       "    .dataframe thead th {\n",
       "        text-align: right;\n",
       "    }\n",
       "</style>\n",
       "<table border=\"1\" class=\"dataframe\">\n",
       "  <thead>\n",
       "    <tr style=\"text-align: right;\">\n",
       "      <th></th>\n",
       "      <th>nombres</th>\n",
       "      <th>fechas</th>\n",
       "      <th>saldo</th>\n",
       "      <th>al_corriente</th>\n",
       "    </tr>\n",
       "  </thead>\n",
       "  <tbody>\n",
       "    <tr>\n",
       "      <th>0</th>\n",
       "      <td>Juan Pérez</td>\n",
       "      <td>1995-12-21</td>\n",
       "      <td>2500.0</td>\n",
       "      <td>True</td>\n",
       "    </tr>\n",
       "    <tr>\n",
       "      <th>1</th>\n",
       "      <td>María Sánchez</td>\n",
       "      <td>1989-01-13</td>\n",
       "      <td>5345.0</td>\n",
       "      <td>True</td>\n",
       "    </tr>\n",
       "    <tr>\n",
       "      <th>2</th>\n",
       "      <td>Jorge Vargas</td>\n",
       "      <td>1992-09-14</td>\n",
       "      <td>NaN</td>\n",
       "      <td>False</td>\n",
       "    </tr>\n",
       "    <tr>\n",
       "      <th>3</th>\n",
       "      <td>Rodrigo Martínez</td>\n",
       "      <td>1993-07-08</td>\n",
       "      <td>11323.2</td>\n",
       "      <td>True</td>\n",
       "    </tr>\n",
       "  </tbody>\n",
       "</table>\n",
       "</div>"
      ],
      "text/plain": [
       "            nombres     fechas    saldo  al_corriente\n",
       "0        Juan Pérez 1995-12-21   2500.0          True\n",
       "1     María Sánchez 1989-01-13   5345.0          True\n",
       "2      Jorge Vargas 1992-09-14      NaN         False\n",
       "3  Rodrigo Martínez 1993-07-08  11323.2          True"
      ]
     },
     "execution_count": 4,
     "metadata": {},
     "output_type": "execute_result"
    }
   ],
   "source": [
    "from datetime import datetime\n",
    "df = pd.DataFrame({'nombres':('Juan Pérez',\n",
    "                                 'María Sánchez'\n",
    "                                 , 'Jorge Vargas',\n",
    "                                 'Rodrigo Martínez'),\n",
    "            'fechas':(datetime(1995,12,21), \n",
    "                      datetime(1989,1,13), \n",
    "                      datetime(1992,9,14), \n",
    "                      datetime(1993,7,8)),\n",
    "            'saldo': (2500, \n",
    "                      5345, \n",
    "                      np.NaN, \n",
    "                      11323.2),\n",
    "            'al_corriente':(True, \n",
    "                            True, \n",
    "                            False, \n",
    "                            True)})\n",
    "\n",
    "df"
   ]
  },
  {
   "cell_type": "markdown",
   "id": "5cb30619",
   "metadata": {},
   "source": [
    "### iloc\n",
    "\n",
    "Recupera ..."
   ]
  },
  {
   "cell_type": "code",
   "execution_count": null,
   "id": "89da7ef5",
   "metadata": {},
   "outputs": [],
   "source": [
    "#Operador  .iloc\n",
    "#data.iloc[<filas>, <columna>]\n",
    "print()\n",
    "\n",
    "\n",
    "\n"
   ]
  },
  {
   "cell_type": "code",
   "execution_count": null,
   "id": "27ac3a88",
   "metadata": {},
   "outputs": [],
   "source": [
    "df.iloc[1] #Segunda  fila\n",
    "\n",
    "\n",
    "\n"
   ]
  },
  {
   "cell_type": "code",
   "execution_count": null,
   "id": "c01124b3",
   "metadata": {},
   "outputs": [],
   "source": []
  },
  {
   "cell_type": "code",
   "execution_count": 5,
   "id": "dac713de",
   "metadata": {},
   "outputs": [
    {
     "data": {
      "text/plain": [
       "nombres            Rodrigo Martínez\n",
       "fechas          1993-07-08 00:00:00\n",
       "saldo                       11323.2\n",
       "al_corriente                   True\n",
       "Name: 3, dtype: object"
      ]
     },
     "execution_count": 5,
     "metadata": {},
     "output_type": "execute_result"
    }
   ],
   "source": [
    "df.iloc[-1] #Ultima fila"
   ]
  },
  {
   "cell_type": "code",
   "execution_count": 7,
   "id": "0566885e",
   "metadata": {},
   "outputs": [
    {
     "data": {
      "text/plain": [
       "0          Juan Pérez\n",
       "1       María Sánchez\n",
       "2        Jorge Vargas\n",
       "3    Rodrigo Martínez\n",
       "Name: nombres, dtype: object"
      ]
     },
     "execution_count": 7,
     "metadata": {},
     "output_type": "execute_result"
    }
   ],
   "source": [
    "df.iloc[:,0] #Pimer columna"
   ]
  },
  {
   "cell_type": "code",
   "execution_count": 8,
   "id": "36c0e16d",
   "metadata": {
    "scrolled": true
   },
   "outputs": [
    {
     "data": {
      "text/plain": [
       "0   1995-12-21\n",
       "1   1989-01-13\n",
       "2   1992-09-14\n",
       "3   1993-07-08\n",
       "Name: fechas, dtype: datetime64[ns]"
      ]
     },
     "execution_count": 8,
     "metadata": {},
     "output_type": "execute_result"
    }
   ],
   "source": [
    "df.iloc[:,1] #Segunda columna"
   ]
  },
  {
   "cell_type": "code",
   "execution_count": 9,
   "id": "c537111d",
   "metadata": {},
   "outputs": [
    {
     "data": {
      "text/plain": [
       "0     True\n",
       "1     True\n",
       "2    False\n",
       "3     True\n",
       "Name: al_corriente, dtype: bool"
      ]
     },
     "execution_count": 9,
     "metadata": {},
     "output_type": "execute_result"
    }
   ],
   "source": [
    "df.iloc[:,-1] #Ultima columna"
   ]
  },
  {
   "cell_type": "code",
   "execution_count": 10,
   "id": "1808b3ee",
   "metadata": {
    "scrolled": true
   },
   "outputs": [
    {
     "data": {
      "text/html": [
       "<div>\n",
       "<style scoped>\n",
       "    .dataframe tbody tr th:only-of-type {\n",
       "        vertical-align: middle;\n",
       "    }\n",
       "\n",
       "    .dataframe tbody tr th {\n",
       "        vertical-align: top;\n",
       "    }\n",
       "\n",
       "    .dataframe thead th {\n",
       "        text-align: right;\n",
       "    }\n",
       "</style>\n",
       "<table border=\"1\" class=\"dataframe\">\n",
       "  <thead>\n",
       "    <tr style=\"text-align: right;\">\n",
       "      <th></th>\n",
       "      <th>nombres</th>\n",
       "      <th>fechas</th>\n",
       "      <th>saldo</th>\n",
       "      <th>al_corriente</th>\n",
       "    </tr>\n",
       "  </thead>\n",
       "  <tbody>\n",
       "    <tr>\n",
       "      <th>1</th>\n",
       "      <td>María Sánchez</td>\n",
       "      <td>1989-01-13</td>\n",
       "      <td>5345.0</td>\n",
       "      <td>True</td>\n",
       "    </tr>\n",
       "    <tr>\n",
       "      <th>2</th>\n",
       "      <td>Jorge Vargas</td>\n",
       "      <td>1992-09-14</td>\n",
       "      <td>NaN</td>\n",
       "      <td>False</td>\n",
       "    </tr>\n",
       "  </tbody>\n",
       "</table>\n",
       "</div>"
      ],
      "text/plain": [
       "         nombres     fechas   saldo  al_corriente\n",
       "1  María Sánchez 1989-01-13  5345.0          True\n",
       "2   Jorge Vargas 1992-09-14     NaN         False"
      ]
     },
     "execution_count": 10,
     "metadata": {},
     "output_type": "execute_result"
    }
   ],
   "source": [
    "df.iloc[1:3] #Rango de filas"
   ]
  },
  {
   "cell_type": "code",
   "execution_count": 11,
   "id": "ce1ae1dd",
   "metadata": {},
   "outputs": [
    {
     "data": {
      "text/html": [
       "<div>\n",
       "<style scoped>\n",
       "    .dataframe tbody tr th:only-of-type {\n",
       "        vertical-align: middle;\n",
       "    }\n",
       "\n",
       "    .dataframe tbody tr th {\n",
       "        vertical-align: top;\n",
       "    }\n",
       "\n",
       "    .dataframe thead th {\n",
       "        text-align: right;\n",
       "    }\n",
       "</style>\n",
       "<table border=\"1\" class=\"dataframe\">\n",
       "  <thead>\n",
       "    <tr style=\"text-align: right;\">\n",
       "      <th></th>\n",
       "      <th>nombres</th>\n",
       "      <th>fechas</th>\n",
       "      <th>saldo</th>\n",
       "      <th>al_corriente</th>\n",
       "    </tr>\n",
       "  </thead>\n",
       "  <tbody>\n",
       "    <tr>\n",
       "      <th>0</th>\n",
       "      <td>Juan Pérez</td>\n",
       "      <td>1995-12-21</td>\n",
       "      <td>2500.0</td>\n",
       "      <td>True</td>\n",
       "    </tr>\n",
       "    <tr>\n",
       "      <th>2</th>\n",
       "      <td>Jorge Vargas</td>\n",
       "      <td>1992-09-14</td>\n",
       "      <td>NaN</td>\n",
       "      <td>False</td>\n",
       "    </tr>\n",
       "  </tbody>\n",
       "</table>\n",
       "</div>"
      ],
      "text/plain": [
       "        nombres     fechas   saldo  al_corriente\n",
       "0    Juan Pérez 1995-12-21  2500.0          True\n",
       "2  Jorge Vargas 1992-09-14     NaN         False"
      ]
     },
     "execution_count": 11,
     "metadata": {},
     "output_type": "execute_result"
    }
   ],
   "source": [
    "df.iloc[0:3:2] #Rango de filas"
   ]
  },
  {
   "cell_type": "code",
   "execution_count": 12,
   "id": "7b65817b",
   "metadata": {
    "scrolled": true
   },
   "outputs": [
    {
     "data": {
      "text/html": [
       "<div>\n",
       "<style scoped>\n",
       "    .dataframe tbody tr th:only-of-type {\n",
       "        vertical-align: middle;\n",
       "    }\n",
       "\n",
       "    .dataframe tbody tr th {\n",
       "        vertical-align: top;\n",
       "    }\n",
       "\n",
       "    .dataframe thead th {\n",
       "        text-align: right;\n",
       "    }\n",
       "</style>\n",
       "<table border=\"1\" class=\"dataframe\">\n",
       "  <thead>\n",
       "    <tr style=\"text-align: right;\">\n",
       "      <th></th>\n",
       "      <th>fechas</th>\n",
       "      <th>saldo</th>\n",
       "    </tr>\n",
       "  </thead>\n",
       "  <tbody>\n",
       "    <tr>\n",
       "      <th>0</th>\n",
       "      <td>1995-12-21</td>\n",
       "      <td>2500.0</td>\n",
       "    </tr>\n",
       "    <tr>\n",
       "      <th>1</th>\n",
       "      <td>1989-01-13</td>\n",
       "      <td>5345.0</td>\n",
       "    </tr>\n",
       "    <tr>\n",
       "      <th>2</th>\n",
       "      <td>1992-09-14</td>\n",
       "      <td>NaN</td>\n",
       "    </tr>\n",
       "    <tr>\n",
       "      <th>3</th>\n",
       "      <td>1993-07-08</td>\n",
       "      <td>11323.2</td>\n",
       "    </tr>\n",
       "  </tbody>\n",
       "</table>\n",
       "</div>"
      ],
      "text/plain": [
       "      fechas    saldo\n",
       "0 1995-12-21   2500.0\n",
       "1 1989-01-13   5345.0\n",
       "2 1992-09-14      NaN\n",
       "3 1993-07-08  11323.2"
      ]
     },
     "execution_count": 12,
     "metadata": {},
     "output_type": "execute_result"
    }
   ],
   "source": [
    "df.iloc[:, 1:3] #Rango de columnas"
   ]
  },
  {
   "cell_type": "code",
   "execution_count": 16,
   "id": "023d07a0",
   "metadata": {},
   "outputs": [
    {
     "data": {
      "text/html": [
       "<div>\n",
       "<style scoped>\n",
       "    .dataframe tbody tr th:only-of-type {\n",
       "        vertical-align: middle;\n",
       "    }\n",
       "\n",
       "    .dataframe tbody tr th {\n",
       "        vertical-align: top;\n",
       "    }\n",
       "\n",
       "    .dataframe thead th {\n",
       "        text-align: right;\n",
       "    }\n",
       "</style>\n",
       "<table border=\"1\" class=\"dataframe\">\n",
       "  <thead>\n",
       "    <tr style=\"text-align: right;\">\n",
       "      <th></th>\n",
       "      <th>nombres</th>\n",
       "      <th>fechas</th>\n",
       "      <th>saldo</th>\n",
       "      <th>al_corriente</th>\n",
       "    </tr>\n",
       "  </thead>\n",
       "  <tbody>\n",
       "    <tr>\n",
       "      <th>1</th>\n",
       "      <td>María Sánchez</td>\n",
       "      <td>1989-01-13</td>\n",
       "      <td>5345.0</td>\n",
       "      <td>True</td>\n",
       "    </tr>\n",
       "    <tr>\n",
       "      <th>3</th>\n",
       "      <td>Rodrigo Martínez</td>\n",
       "      <td>1993-07-08</td>\n",
       "      <td>11323.2</td>\n",
       "      <td>True</td>\n",
       "    </tr>\n",
       "    <tr>\n",
       "      <th>0</th>\n",
       "      <td>Juan Pérez</td>\n",
       "      <td>1995-12-21</td>\n",
       "      <td>2500.0</td>\n",
       "      <td>True</td>\n",
       "    </tr>\n",
       "  </tbody>\n",
       "</table>\n",
       "</div>"
      ],
      "text/plain": [
       "            nombres     fechas    saldo  al_corriente\n",
       "1     María Sánchez 1989-01-13   5345.0          True\n",
       "3  Rodrigo Martínez 1993-07-08  11323.2          True\n",
       "0        Juan Pérez 1995-12-21   2500.0          True"
      ]
     },
     "execution_count": 16,
     "metadata": {},
     "output_type": "execute_result"
    }
   ],
   "source": [
    "df.iloc[[1,3,0]] #Lista de filas\n",
    "#El orden en que aparezcan en las listas es como van a mostrarse"
   ]
  },
  {
   "cell_type": "code",
   "execution_count": 15,
   "id": "c43fb744",
   "metadata": {
    "scrolled": true
   },
   "outputs": [
    {
     "data": {
      "text/html": [
       "<div>\n",
       "<style scoped>\n",
       "    .dataframe tbody tr th:only-of-type {\n",
       "        vertical-align: middle;\n",
       "    }\n",
       "\n",
       "    .dataframe tbody tr th {\n",
       "        vertical-align: top;\n",
       "    }\n",
       "\n",
       "    .dataframe thead th {\n",
       "        text-align: right;\n",
       "    }\n",
       "</style>\n",
       "<table border=\"1\" class=\"dataframe\">\n",
       "  <thead>\n",
       "    <tr style=\"text-align: right;\">\n",
       "      <th></th>\n",
       "      <th>fechas</th>\n",
       "      <th>al_corriente</th>\n",
       "      <th>nombres</th>\n",
       "    </tr>\n",
       "  </thead>\n",
       "  <tbody>\n",
       "    <tr>\n",
       "      <th>0</th>\n",
       "      <td>1995-12-21</td>\n",
       "      <td>True</td>\n",
       "      <td>Juan Pérez</td>\n",
       "    </tr>\n",
       "    <tr>\n",
       "      <th>1</th>\n",
       "      <td>1989-01-13</td>\n",
       "      <td>True</td>\n",
       "      <td>María Sánchez</td>\n",
       "    </tr>\n",
       "    <tr>\n",
       "      <th>2</th>\n",
       "      <td>1992-09-14</td>\n",
       "      <td>False</td>\n",
       "      <td>Jorge Vargas</td>\n",
       "    </tr>\n",
       "    <tr>\n",
       "      <th>3</th>\n",
       "      <td>1993-07-08</td>\n",
       "      <td>True</td>\n",
       "      <td>Rodrigo Martínez</td>\n",
       "    </tr>\n",
       "  </tbody>\n",
       "</table>\n",
       "</div>"
      ],
      "text/plain": [
       "      fechas  al_corriente           nombres\n",
       "0 1995-12-21          True        Juan Pérez\n",
       "1 1989-01-13          True     María Sánchez\n",
       "2 1992-09-14         False      Jorge Vargas\n",
       "3 1993-07-08          True  Rodrigo Martínez"
      ]
     },
     "execution_count": 15,
     "metadata": {},
     "output_type": "execute_result"
    }
   ],
   "source": [
    "df.iloc[:,[1,3,0]] #Lista de columnas (usamos dos parametros)"
   ]
  },
  {
   "cell_type": "code",
   "execution_count": 17,
   "id": "289a9fa5",
   "metadata": {
    "scrolled": true
   },
   "outputs": [
    {
     "data": {
      "text/html": [
       "<div>\n",
       "<style scoped>\n",
       "    .dataframe tbody tr th:only-of-type {\n",
       "        vertical-align: middle;\n",
       "    }\n",
       "\n",
       "    .dataframe tbody tr th {\n",
       "        vertical-align: top;\n",
       "    }\n",
       "\n",
       "    .dataframe thead th {\n",
       "        text-align: right;\n",
       "    }\n",
       "</style>\n",
       "<table border=\"1\" class=\"dataframe\">\n",
       "  <thead>\n",
       "    <tr style=\"text-align: right;\">\n",
       "      <th></th>\n",
       "      <th>fechas</th>\n",
       "      <th>al_corriente</th>\n",
       "      <th>nombres</th>\n",
       "    </tr>\n",
       "  </thead>\n",
       "  <tbody>\n",
       "    <tr>\n",
       "      <th>1</th>\n",
       "      <td>1989-01-13</td>\n",
       "      <td>True</td>\n",
       "      <td>María Sánchez</td>\n",
       "    </tr>\n",
       "    <tr>\n",
       "      <th>3</th>\n",
       "      <td>1993-07-08</td>\n",
       "      <td>True</td>\n",
       "      <td>Rodrigo Martínez</td>\n",
       "    </tr>\n",
       "    <tr>\n",
       "      <th>0</th>\n",
       "      <td>1995-12-21</td>\n",
       "      <td>True</td>\n",
       "      <td>Juan Pérez</td>\n",
       "    </tr>\n",
       "  </tbody>\n",
       "</table>\n",
       "</div>"
      ],
      "text/plain": [
       "      fechas  al_corriente           nombres\n",
       "1 1989-01-13          True     María Sánchez\n",
       "3 1993-07-08          True  Rodrigo Martínez\n",
       "0 1995-12-21          True        Juan Pérez"
      ]
     },
     "execution_count": 17,
     "metadata": {},
     "output_type": "execute_result"
    }
   ],
   "source": [
    "df.iloc[[1,3,0],[1,3,0]] #Lista de filas y columnas"
   ]
  },
  {
   "cell_type": "code",
   "execution_count": 18,
   "id": "a0bdf524",
   "metadata": {},
   "outputs": [
    {
     "data": {
      "text/plain": [
       "fechas          1989-01-13 00:00:00\n",
       "al_corriente                   True\n",
       "nombres               María Sánchez\n",
       "Name: 1, dtype: object"
      ]
     },
     "execution_count": 18,
     "metadata": {},
     "output_type": "execute_result"
    }
   ],
   "source": [
    "df.iloc[1, [1,3,0]]"
   ]
  },
  {
   "cell_type": "code",
   "execution_count": 19,
   "id": "6fab70a4",
   "metadata": {
    "scrolled": true
   },
   "outputs": [
    {
     "data": {
      "text/plain": [
       "nombres               María Sánchez\n",
       "fechas          1989-01-13 00:00:00\n",
       "saldo                        5345.0\n",
       "al_corriente                   True\n",
       "Name: 1, dtype: object"
      ]
     },
     "execution_count": 19,
     "metadata": {},
     "output_type": "execute_result"
    }
   ],
   "source": [
    "df.iloc[1,:]"
   ]
  },
  {
   "cell_type": "code",
   "execution_count": 21,
   "id": "5e9561c5",
   "metadata": {
    "scrolled": false
   },
   "outputs": [],
   "source": [
    "df.iloc[1,'fechas'] # iloc no trabaja con etiquetas, para ello usamos loc"
   ]
  },
  {
   "cell_type": "markdown",
   "id": "0d897d38",
   "metadata": {},
   "source": [
    "### Loc\n",
    "\n",
    "Recupera filas y columnas por etiqueta(s) o una matriz booleana"
   ]
  },
  {
   "cell_type": "code",
   "execution_count": 23,
   "id": "2b878e9c",
   "metadata": {},
   "outputs": [
    {
     "data": {
      "text/html": [
       "<div>\n",
       "<style scoped>\n",
       "    .dataframe tbody tr th:only-of-type {\n",
       "        vertical-align: middle;\n",
       "    }\n",
       "\n",
       "    .dataframe tbody tr th {\n",
       "        vertical-align: top;\n",
       "    }\n",
       "\n",
       "    .dataframe thead th {\n",
       "        text-align: right;\n",
       "    }\n",
       "</style>\n",
       "<table border=\"1\" class=\"dataframe\">\n",
       "  <thead>\n",
       "    <tr style=\"text-align: right;\">\n",
       "      <th></th>\n",
       "      <th>nombres</th>\n",
       "      <th>fechas</th>\n",
       "      <th>saldo</th>\n",
       "      <th>al_corriente</th>\n",
       "    </tr>\n",
       "  </thead>\n",
       "  <tbody>\n",
       "    <tr>\n",
       "      <th>1</th>\n",
       "      <td>María Sánchez</td>\n",
       "      <td>1989-01-13</td>\n",
       "      <td>5345.0</td>\n",
       "      <td>True</td>\n",
       "    </tr>\n",
       "    <tr>\n",
       "      <th>2</th>\n",
       "      <td>Jorge Vargas</td>\n",
       "      <td>1992-09-14</td>\n",
       "      <td>NaN</td>\n",
       "      <td>False</td>\n",
       "    </tr>\n",
       "    <tr>\n",
       "      <th>3</th>\n",
       "      <td>Rodrigo Martínez</td>\n",
       "      <td>1993-07-08</td>\n",
       "      <td>11323.2</td>\n",
       "      <td>True</td>\n",
       "    </tr>\n",
       "  </tbody>\n",
       "</table>\n",
       "</div>"
      ],
      "text/plain": [
       "            nombres     fechas    saldo  al_corriente\n",
       "1     María Sánchez 1989-01-13   5345.0          True\n",
       "2      Jorge Vargas 1992-09-14      NaN         False\n",
       "3  Rodrigo Martínez 1993-07-08  11323.2          True"
      ]
     },
     "execution_count": 23,
     "metadata": {},
     "output_type": "execute_result"
    }
   ],
   "source": [
    "df.loc[1:3] #Rango de filas.\n",
    "# Aquí 1, 2 y 3 no son , son nombres de etiquetas"
   ]
  },
  {
   "cell_type": "code",
   "execution_count": 24,
   "id": "dfe19395",
   "metadata": {},
   "outputs": [
    {
     "data": {
      "text/plain": [
       "0     2500.0\n",
       "1     5345.0\n",
       "2        NaN\n",
       "3    11323.2\n",
       "Name: saldo, dtype: float64"
      ]
     },
     "execution_count": 24,
     "metadata": {},
     "output_type": "execute_result"
    }
   ],
   "source": [
    "df.loc[:, 'saldo'] #Rango de columnas"
   ]
  },
  {
   "cell_type": "code",
   "execution_count": 25,
   "id": "502e9970",
   "metadata": {
    "scrolled": true
   },
   "outputs": [
    {
     "data": {
      "text/html": [
       "<div>\n",
       "<style scoped>\n",
       "    .dataframe tbody tr th:only-of-type {\n",
       "        vertical-align: middle;\n",
       "    }\n",
       "\n",
       "    .dataframe tbody tr th {\n",
       "        vertical-align: top;\n",
       "    }\n",
       "\n",
       "    .dataframe thead th {\n",
       "        text-align: right;\n",
       "    }\n",
       "</style>\n",
       "<table border=\"1\" class=\"dataframe\">\n",
       "  <thead>\n",
       "    <tr style=\"text-align: right;\">\n",
       "      <th></th>\n",
       "      <th>saldo</th>\n",
       "      <th>al_corriente</th>\n",
       "    </tr>\n",
       "  </thead>\n",
       "  <tbody>\n",
       "    <tr>\n",
       "      <th>0</th>\n",
       "      <td>2500.0</td>\n",
       "      <td>True</td>\n",
       "    </tr>\n",
       "    <tr>\n",
       "      <th>1</th>\n",
       "      <td>5345.0</td>\n",
       "      <td>True</td>\n",
       "    </tr>\n",
       "    <tr>\n",
       "      <th>2</th>\n",
       "      <td>NaN</td>\n",
       "      <td>False</td>\n",
       "    </tr>\n",
       "    <tr>\n",
       "      <th>3</th>\n",
       "      <td>11323.2</td>\n",
       "      <td>True</td>\n",
       "    </tr>\n",
       "  </tbody>\n",
       "</table>\n",
       "</div>"
      ],
      "text/plain": [
       "     saldo  al_corriente\n",
       "0   2500.0          True\n",
       "1   5345.0          True\n",
       "2      NaN         False\n",
       "3  11323.2          True"
      ]
     },
     "execution_count": 25,
     "metadata": {},
     "output_type": "execute_result"
    }
   ],
   "source": [
    "df.loc[:, 'saldo':'al_corriente'] #Rango de columnas"
   ]
  },
  {
   "cell_type": "code",
   "execution_count": 26,
   "id": "289c9a40",
   "metadata": {
    "scrolled": true
   },
   "outputs": [
    {
     "data": {
      "text/html": [
       "<div>\n",
       "<style scoped>\n",
       "    .dataframe tbody tr th:only-of-type {\n",
       "        vertical-align: middle;\n",
       "    }\n",
       "\n",
       "    .dataframe tbody tr th {\n",
       "        vertical-align: top;\n",
       "    }\n",
       "\n",
       "    .dataframe thead th {\n",
       "        text-align: right;\n",
       "    }\n",
       "</style>\n",
       "<table border=\"1\" class=\"dataframe\">\n",
       "  <thead>\n",
       "    <tr style=\"text-align: right;\">\n",
       "      <th></th>\n",
       "    </tr>\n",
       "  </thead>\n",
       "  <tbody>\n",
       "    <tr>\n",
       "      <th>0</th>\n",
       "    </tr>\n",
       "    <tr>\n",
       "      <th>1</th>\n",
       "    </tr>\n",
       "    <tr>\n",
       "      <th>2</th>\n",
       "    </tr>\n",
       "    <tr>\n",
       "      <th>3</th>\n",
       "    </tr>\n",
       "  </tbody>\n",
       "</table>\n",
       "</div>"
      ],
      "text/plain": [
       "Empty DataFrame\n",
       "Columns: []\n",
       "Index: [0, 1, 2, 3]"
      ]
     },
     "execution_count": 26,
     "metadata": {},
     "output_type": "execute_result"
    }
   ],
   "source": [
    "df.loc[:, 'saldo':'fechas'] #Rango de columnas"
   ]
  },
  {
   "cell_type": "code",
   "execution_count": 27,
   "id": "5ad32ee8",
   "metadata": {
    "scrolled": true
   },
   "outputs": [
    {
     "data": {
      "text/html": [
       "<div>\n",
       "<style scoped>\n",
       "    .dataframe tbody tr th:only-of-type {\n",
       "        vertical-align: middle;\n",
       "    }\n",
       "\n",
       "    .dataframe tbody tr th {\n",
       "        vertical-align: top;\n",
       "    }\n",
       "\n",
       "    .dataframe thead th {\n",
       "        text-align: right;\n",
       "    }\n",
       "</style>\n",
       "<table border=\"1\" class=\"dataframe\">\n",
       "  <thead>\n",
       "    <tr style=\"text-align: right;\">\n",
       "      <th></th>\n",
       "      <th>fechas</th>\n",
       "      <th>saldo</th>\n",
       "    </tr>\n",
       "  </thead>\n",
       "  <tbody>\n",
       "    <tr>\n",
       "      <th>0</th>\n",
       "      <td>1995-12-21</td>\n",
       "      <td>2500.0</td>\n",
       "    </tr>\n",
       "    <tr>\n",
       "      <th>1</th>\n",
       "      <td>1989-01-13</td>\n",
       "      <td>5345.0</td>\n",
       "    </tr>\n",
       "    <tr>\n",
       "      <th>2</th>\n",
       "      <td>1992-09-14</td>\n",
       "      <td>NaN</td>\n",
       "    </tr>\n",
       "    <tr>\n",
       "      <th>3</th>\n",
       "      <td>1993-07-08</td>\n",
       "      <td>11323.2</td>\n",
       "    </tr>\n",
       "  </tbody>\n",
       "</table>\n",
       "</div>"
      ],
      "text/plain": [
       "      fechas    saldo\n",
       "0 1995-12-21   2500.0\n",
       "1 1989-01-13   5345.0\n",
       "2 1992-09-14      NaN\n",
       "3 1993-07-08  11323.2"
      ]
     },
     "execution_count": 27,
     "metadata": {},
     "output_type": "execute_result"
    }
   ],
   "source": [
    "df.loc[:, 'fechas':'saldo'] #Rango de columnas"
   ]
  },
  {
   "cell_type": "code",
   "execution_count": 28,
   "id": "1aecb76d",
   "metadata": {
    "scrolled": true
   },
   "outputs": [
    {
     "data": {
      "text/html": [
       "<div>\n",
       "<style scoped>\n",
       "    .dataframe tbody tr th:only-of-type {\n",
       "        vertical-align: middle;\n",
       "    }\n",
       "\n",
       "    .dataframe tbody tr th {\n",
       "        vertical-align: top;\n",
       "    }\n",
       "\n",
       "    .dataframe thead th {\n",
       "        text-align: right;\n",
       "    }\n",
       "</style>\n",
       "<table border=\"1\" class=\"dataframe\">\n",
       "  <thead>\n",
       "    <tr style=\"text-align: right;\">\n",
       "      <th></th>\n",
       "      <th>fechas</th>\n",
       "      <th>saldo</th>\n",
       "      <th>nombres</th>\n",
       "    </tr>\n",
       "  </thead>\n",
       "  <tbody>\n",
       "    <tr>\n",
       "      <th>0</th>\n",
       "      <td>1995-12-21</td>\n",
       "      <td>2500.0</td>\n",
       "      <td>Juan Pérez</td>\n",
       "    </tr>\n",
       "    <tr>\n",
       "      <th>1</th>\n",
       "      <td>1989-01-13</td>\n",
       "      <td>5345.0</td>\n",
       "      <td>María Sánchez</td>\n",
       "    </tr>\n",
       "    <tr>\n",
       "      <th>2</th>\n",
       "      <td>1992-09-14</td>\n",
       "      <td>NaN</td>\n",
       "      <td>Jorge Vargas</td>\n",
       "    </tr>\n",
       "    <tr>\n",
       "      <th>3</th>\n",
       "      <td>1993-07-08</td>\n",
       "      <td>11323.2</td>\n",
       "      <td>Rodrigo Martínez</td>\n",
       "    </tr>\n",
       "  </tbody>\n",
       "</table>\n",
       "</div>"
      ],
      "text/plain": [
       "      fechas    saldo           nombres\n",
       "0 1995-12-21   2500.0        Juan Pérez\n",
       "1 1989-01-13   5345.0     María Sánchez\n",
       "2 1992-09-14      NaN      Jorge Vargas\n",
       "3 1993-07-08  11323.2  Rodrigo Martínez"
      ]
     },
     "execution_count": 28,
     "metadata": {},
     "output_type": "execute_result"
    }
   ],
   "source": [
    "df.loc[:, ['fechas','saldo','nombres']] #Rango de columnas"
   ]
  },
  {
   "cell_type": "code",
   "execution_count": 29,
   "id": "8c20c28d",
   "metadata": {},
   "outputs": [
    {
     "data": {
      "text/plain": [
       "fechas     1989-01-13 00:00:00\n",
       "saldo                   5345.0\n",
       "nombres          María Sánchez\n",
       "Name: 1, dtype: object"
      ]
     },
     "execution_count": 29,
     "metadata": {},
     "output_type": "execute_result"
    }
   ],
   "source": [
    "df.loc[1, ['fechas','saldo','nombres']] #Rango de columnas"
   ]
  },
  {
   "cell_type": "code",
   "execution_count": 30,
   "id": "bd12ae36",
   "metadata": {
    "scrolled": true
   },
   "outputs": [
    {
     "data": {
      "text/html": [
       "<div>\n",
       "<style scoped>\n",
       "    .dataframe tbody tr th:only-of-type {\n",
       "        vertical-align: middle;\n",
       "    }\n",
       "\n",
       "    .dataframe tbody tr th {\n",
       "        vertical-align: top;\n",
       "    }\n",
       "\n",
       "    .dataframe thead th {\n",
       "        text-align: right;\n",
       "    }\n",
       "</style>\n",
       "<table border=\"1\" class=\"dataframe\">\n",
       "  <thead>\n",
       "    <tr style=\"text-align: right;\">\n",
       "      <th></th>\n",
       "      <th>fechas</th>\n",
       "      <th>saldo</th>\n",
       "      <th>nombres</th>\n",
       "    </tr>\n",
       "  </thead>\n",
       "  <tbody>\n",
       "    <tr>\n",
       "      <th>1</th>\n",
       "      <td>1989-01-13</td>\n",
       "      <td>5345.0</td>\n",
       "      <td>María Sánchez</td>\n",
       "    </tr>\n",
       "    <tr>\n",
       "      <th>2</th>\n",
       "      <td>1992-09-14</td>\n",
       "      <td>NaN</td>\n",
       "      <td>Jorge Vargas</td>\n",
       "    </tr>\n",
       "    <tr>\n",
       "      <th>3</th>\n",
       "      <td>1993-07-08</td>\n",
       "      <td>11323.2</td>\n",
       "      <td>Rodrigo Martínez</td>\n",
       "    </tr>\n",
       "  </tbody>\n",
       "</table>\n",
       "</div>"
      ],
      "text/plain": [
       "      fechas    saldo           nombres\n",
       "1 1989-01-13   5345.0     María Sánchez\n",
       "2 1992-09-14      NaN      Jorge Vargas\n",
       "3 1993-07-08  11323.2  Rodrigo Martínez"
      ]
     },
     "execution_count": 30,
     "metadata": {},
     "output_type": "execute_result"
    }
   ],
   "source": [
    "df.loc[1:3, ['fechas','saldo','nombres']] #Rango de filas y columnas"
   ]
  },
  {
   "cell_type": "code",
   "execution_count": 31,
   "id": "98d2e651",
   "metadata": {
    "scrolled": true
   },
   "outputs": [
    {
     "data": {
      "text/html": [
       "<div>\n",
       "<style scoped>\n",
       "    .dataframe tbody tr th:only-of-type {\n",
       "        vertical-align: middle;\n",
       "    }\n",
       "\n",
       "    .dataframe tbody tr th {\n",
       "        vertical-align: top;\n",
       "    }\n",
       "\n",
       "    .dataframe thead th {\n",
       "        text-align: right;\n",
       "    }\n",
       "</style>\n",
       "<table border=\"1\" class=\"dataframe\">\n",
       "  <thead>\n",
       "    <tr style=\"text-align: right;\">\n",
       "      <th></th>\n",
       "      <th>fechas</th>\n",
       "      <th>saldo</th>\n",
       "      <th>nombres</th>\n",
       "    </tr>\n",
       "  </thead>\n",
       "  <tbody>\n",
       "    <tr>\n",
       "      <th>1</th>\n",
       "      <td>1989-01-13</td>\n",
       "      <td>5345.0</td>\n",
       "      <td>María Sánchez</td>\n",
       "    </tr>\n",
       "    <tr>\n",
       "      <th>3</th>\n",
       "      <td>1993-07-08</td>\n",
       "      <td>11323.2</td>\n",
       "      <td>Rodrigo Martínez</td>\n",
       "    </tr>\n",
       "    <tr>\n",
       "      <th>2</th>\n",
       "      <td>1992-09-14</td>\n",
       "      <td>NaN</td>\n",
       "      <td>Jorge Vargas</td>\n",
       "    </tr>\n",
       "  </tbody>\n",
       "</table>\n",
       "</div>"
      ],
      "text/plain": [
       "      fechas    saldo           nombres\n",
       "1 1989-01-13   5345.0     María Sánchez\n",
       "3 1993-07-08  11323.2  Rodrigo Martínez\n",
       "2 1992-09-14      NaN      Jorge Vargas"
      ]
     },
     "execution_count": 31,
     "metadata": {},
     "output_type": "execute_result"
    }
   ],
   "source": [
    "df.loc[[1,3,2], ['fechas','saldo','nombres']] #Rango de filas y columnas"
   ]
  },
  {
   "cell_type": "code",
   "execution_count": 42,
   "id": "2da9b64f",
   "metadata": {},
   "outputs": [
    {
     "name": "stdout",
     "output_type": "stream",
     "text": [
      "            nombres     fechas    saldo  al_corriente\n",
      "1     María Sánchez 1989-01-13   5345.0          True\n",
      "2      Jorge Vargas 1992-09-14      NaN         False\n",
      "3  Rodrigo Martínez 1993-07-08  11323.2          True\n",
      "\n",
      "*************************---------**************************\n",
      "\n",
      "         nombres     fechas   saldo  al_corriente\n",
      "1  María Sánchez 1989-01-13  5345.0          True\n",
      "2   Jorge Vargas 1992-09-14     NaN         False\n"
     ]
    }
   ],
   "source": [
    "# Iloc VS Loc \n",
    "\n",
    "print(df.loc[1:3])\n",
    "print(\"\\n\" + \"---------\".center(60,\"*\") + \"\\n\")\n",
    "print(df.iloc[1:3])"
   ]
  },
  {
   "cell_type": "code",
   "execution_count": 36,
   "id": "ba2d1429",
   "metadata": {},
   "outputs": [
    {
     "data": {
      "text/html": [
       "<div>\n",
       "<style scoped>\n",
       "    .dataframe tbody tr th:only-of-type {\n",
       "        vertical-align: middle;\n",
       "    }\n",
       "\n",
       "    .dataframe tbody tr th {\n",
       "        vertical-align: top;\n",
       "    }\n",
       "\n",
       "    .dataframe thead th {\n",
       "        text-align: right;\n",
       "    }\n",
       "</style>\n",
       "<table border=\"1\" class=\"dataframe\">\n",
       "  <thead>\n",
       "    <tr style=\"text-align: right;\">\n",
       "      <th></th>\n",
       "      <th>nombres</th>\n",
       "      <th>fechas</th>\n",
       "      <th>saldo</th>\n",
       "      <th>al_corriente</th>\n",
       "    </tr>\n",
       "  </thead>\n",
       "  <tbody>\n",
       "    <tr>\n",
       "      <th>1</th>\n",
       "      <td>María Sánchez</td>\n",
       "      <td>1989-01-13</td>\n",
       "      <td>5345.0</td>\n",
       "      <td>True</td>\n",
       "    </tr>\n",
       "    <tr>\n",
       "      <th>2</th>\n",
       "      <td>Jorge Vargas</td>\n",
       "      <td>1992-09-14</td>\n",
       "      <td>NaN</td>\n",
       "      <td>False</td>\n",
       "    </tr>\n",
       "  </tbody>\n",
       "</table>\n",
       "</div>"
      ],
      "text/plain": [
       "         nombres     fechas   saldo  al_corriente\n",
       "1  María Sánchez 1989-01-13  5345.0          True\n",
       "2   Jorge Vargas 1992-09-14     NaN         False"
      ]
     },
     "execution_count": 36,
     "metadata": {},
     "output_type": "execute_result"
    }
   ],
   "source": [
    "df_iloc = df.iloc[1:3]\n",
    "df_iloc"
   ]
  },
  {
   "cell_type": "code",
   "execution_count": 40,
   "id": "d88c4e83",
   "metadata": {
    "scrolled": true
   },
   "outputs": [
    {
     "name": "stdout",
     "output_type": "stream",
     "text": [
      "nombres               María Sánchez\n",
      "fechas          1989-01-13 00:00:00\n",
      "saldo                        5345.0\n",
      "al_corriente                   True\n",
      "Name: 1, dtype: object\n",
      "\n",
      "*************************---------**************************\n",
      "\n",
      "nombres                Jorge Vargas\n",
      "fechas          1992-09-14 00:00:00\n",
      "saldo                           NaN\n",
      "al_corriente                  False\n",
      "Name: 2, dtype: object\n"
     ]
    }
   ],
   "source": [
    "# Iloc VS Loc \n",
    "print(df_iloc.loc[1])\n",
    "print(\"\\n\" + \"---------\".center(60,\"*\") + \"\\n\")\n",
    "print(df_iloc.iloc[1])"
   ]
  },
  {
   "cell_type": "code",
   "execution_count": 43,
   "id": "6c3f5384",
   "metadata": {},
   "outputs": [
    {
     "data": {
      "text/plain": [
       "0    False\n",
       "1     True\n",
       "2    False\n",
       "3     True\n",
       "Name: saldo, dtype: bool"
      ]
     },
     "execution_count": 43,
     "metadata": {},
     "output_type": "execute_result"
    }
   ],
   "source": [
    "df['saldo'] > 3000"
   ]
  },
  {
   "cell_type": "code",
   "execution_count": 44,
   "id": "10505f9a",
   "metadata": {},
   "outputs": [
    {
     "data": {
      "text/html": [
       "<div>\n",
       "<style scoped>\n",
       "    .dataframe tbody tr th:only-of-type {\n",
       "        vertical-align: middle;\n",
       "    }\n",
       "\n",
       "    .dataframe tbody tr th {\n",
       "        vertical-align: top;\n",
       "    }\n",
       "\n",
       "    .dataframe thead th {\n",
       "        text-align: right;\n",
       "    }\n",
       "</style>\n",
       "<table border=\"1\" class=\"dataframe\">\n",
       "  <thead>\n",
       "    <tr style=\"text-align: right;\">\n",
       "      <th></th>\n",
       "      <th>nombres</th>\n",
       "      <th>fechas</th>\n",
       "      <th>saldo</th>\n",
       "      <th>al_corriente</th>\n",
       "    </tr>\n",
       "  </thead>\n",
       "  <tbody>\n",
       "    <tr>\n",
       "      <th>1</th>\n",
       "      <td>María Sánchez</td>\n",
       "      <td>1989-01-13</td>\n",
       "      <td>5345.0</td>\n",
       "      <td>True</td>\n",
       "    </tr>\n",
       "    <tr>\n",
       "      <th>3</th>\n",
       "      <td>Rodrigo Martínez</td>\n",
       "      <td>1993-07-08</td>\n",
       "      <td>11323.2</td>\n",
       "      <td>True</td>\n",
       "    </tr>\n",
       "  </tbody>\n",
       "</table>\n",
       "</div>"
      ],
      "text/plain": [
       "            nombres     fechas    saldo  al_corriente\n",
       "1     María Sánchez 1989-01-13   5345.0          True\n",
       "3  Rodrigo Martínez 1993-07-08  11323.2          True"
      ]
     },
     "execution_count": 44,
     "metadata": {},
     "output_type": "execute_result"
    }
   ],
   "source": [
    "df.loc[df['saldo'] > 3000]"
   ]
  },
  {
   "cell_type": "code",
   "execution_count": 45,
   "id": "87906ed3",
   "metadata": {
    "scrolled": true
   },
   "outputs": [
    {
     "data": {
      "text/html": [
       "<div>\n",
       "<style scoped>\n",
       "    .dataframe tbody tr th:only-of-type {\n",
       "        vertical-align: middle;\n",
       "    }\n",
       "\n",
       "    .dataframe tbody tr th {\n",
       "        vertical-align: top;\n",
       "    }\n",
       "\n",
       "    .dataframe thead th {\n",
       "        text-align: right;\n",
       "    }\n",
       "</style>\n",
       "<table border=\"1\" class=\"dataframe\">\n",
       "  <thead>\n",
       "    <tr style=\"text-align: right;\">\n",
       "      <th></th>\n",
       "      <th>nombres</th>\n",
       "      <th>saldo</th>\n",
       "    </tr>\n",
       "  </thead>\n",
       "  <tbody>\n",
       "    <tr>\n",
       "      <th>1</th>\n",
       "      <td>María Sánchez</td>\n",
       "      <td>5345.0</td>\n",
       "    </tr>\n",
       "    <tr>\n",
       "      <th>3</th>\n",
       "      <td>Rodrigo Martínez</td>\n",
       "      <td>11323.2</td>\n",
       "    </tr>\n",
       "  </tbody>\n",
       "</table>\n",
       "</div>"
      ],
      "text/plain": [
       "            nombres    saldo\n",
       "1     María Sánchez   5345.0\n",
       "3  Rodrigo Martínez  11323.2"
      ]
     },
     "execution_count": 45,
     "metadata": {},
     "output_type": "execute_result"
    }
   ],
   "source": [
    "df.loc[df['saldo'] > 3000, ['nombres', 'saldo']]"
   ]
  },
  {
   "cell_type": "code",
   "execution_count": 46,
   "id": "dedd5b97",
   "metadata": {},
   "outputs": [
    {
     "name": "stdout",
     "output_type": "stream",
     "text": [
      "<class 'pandas.core.series.Series'>\n"
     ]
    },
    {
     "data": {
      "text/plain": [
       "0    False\n",
       "1     True\n",
       "2    False\n",
       "3     True\n",
       "Name: saldo, dtype: bool"
      ]
     },
     "execution_count": 46,
     "metadata": {},
     "output_type": "execute_result"
    }
   ],
   "source": [
    "ss3 = df['saldo'] > 3000\n",
    "print(type(ss3))\n",
    "ss3"
   ]
  },
  {
   "cell_type": "code",
   "execution_count": 47,
   "id": "f165b1f0",
   "metadata": {
    "scrolled": true
   },
   "outputs": [
    {
     "data": {
      "text/html": [
       "<div>\n",
       "<style scoped>\n",
       "    .dataframe tbody tr th:only-of-type {\n",
       "        vertical-align: middle;\n",
       "    }\n",
       "\n",
       "    .dataframe tbody tr th {\n",
       "        vertical-align: top;\n",
       "    }\n",
       "\n",
       "    .dataframe thead th {\n",
       "        text-align: right;\n",
       "    }\n",
       "</style>\n",
       "<table border=\"1\" class=\"dataframe\">\n",
       "  <thead>\n",
       "    <tr style=\"text-align: right;\">\n",
       "      <th></th>\n",
       "      <th>nombres</th>\n",
       "      <th>fechas</th>\n",
       "      <th>saldo</th>\n",
       "      <th>al_corriente</th>\n",
       "    </tr>\n",
       "  </thead>\n",
       "  <tbody>\n",
       "    <tr>\n",
       "      <th>1</th>\n",
       "      <td>María Sánchez</td>\n",
       "      <td>1989-01-13</td>\n",
       "      <td>5345.0</td>\n",
       "      <td>True</td>\n",
       "    </tr>\n",
       "    <tr>\n",
       "      <th>3</th>\n",
       "      <td>Rodrigo Martínez</td>\n",
       "      <td>1993-07-08</td>\n",
       "      <td>11323.2</td>\n",
       "      <td>True</td>\n",
       "    </tr>\n",
       "  </tbody>\n",
       "</table>\n",
       "</div>"
      ],
      "text/plain": [
       "            nombres     fechas    saldo  al_corriente\n",
       "1     María Sánchez 1989-01-13   5345.0          True\n",
       "3  Rodrigo Martínez 1993-07-08  11323.2          True"
      ]
     },
     "execution_count": 47,
     "metadata": {},
     "output_type": "execute_result"
    }
   ],
   "source": [
    "df.loc[ss3]"
   ]
  },
  {
   "cell_type": "code",
   "execution_count": 49,
   "id": "18ba6984",
   "metadata": {
    "scrolled": true
   },
   "outputs": [
    {
     "data": {
      "text/html": [
       "<div>\n",
       "<style scoped>\n",
       "    .dataframe tbody tr th:only-of-type {\n",
       "        vertical-align: middle;\n",
       "    }\n",
       "\n",
       "    .dataframe tbody tr th {\n",
       "        vertical-align: top;\n",
       "    }\n",
       "\n",
       "    .dataframe thead th {\n",
       "        text-align: right;\n",
       "    }\n",
       "</style>\n",
       "<table border=\"1\" class=\"dataframe\">\n",
       "  <thead>\n",
       "    <tr style=\"text-align: right;\">\n",
       "      <th></th>\n",
       "      <th>nombres</th>\n",
       "      <th>fechas</th>\n",
       "      <th>saldo</th>\n",
       "      <th>al_corriente</th>\n",
       "    </tr>\n",
       "  </thead>\n",
       "  <tbody>\n",
       "    <tr>\n",
       "      <th>0</th>\n",
       "      <td>Juan Pérez</td>\n",
       "      <td>1995-12-21</td>\n",
       "      <td>2500.0</td>\n",
       "      <td>True</td>\n",
       "    </tr>\n",
       "    <tr>\n",
       "      <th>2</th>\n",
       "      <td>Jorge Vargas</td>\n",
       "      <td>1992-09-14</td>\n",
       "      <td>NaN</td>\n",
       "      <td>False</td>\n",
       "    </tr>\n",
       "  </tbody>\n",
       "</table>\n",
       "</div>"
      ],
      "text/plain": [
       "        nombres     fechas   saldo  al_corriente\n",
       "0    Juan Pérez 1995-12-21  2500.0          True\n",
       "2  Jorge Vargas 1992-09-14     NaN         False"
      ]
     },
     "execution_count": 49,
     "metadata": {},
     "output_type": "execute_result"
    }
   ],
   "source": [
    "df.loc[~ss3] #Clientes con un saldo no mayor a 3000"
   ]
  },
  {
   "cell_type": "code",
   "execution_count": 50,
   "id": "603f3425",
   "metadata": {
    "scrolled": true
   },
   "outputs": [
    {
     "data": {
      "text/plain": [
       "0     True\n",
       "1     True\n",
       "2    False\n",
       "3     True\n",
       "Name: al_corriente, dtype: bool"
      ]
     },
     "execution_count": 50,
     "metadata": {},
     "output_type": "execute_result"
    }
   ],
   "source": [
    "df['al_corriente']"
   ]
  },
  {
   "cell_type": "code",
   "execution_count": 53,
   "id": "e9392c35",
   "metadata": {},
   "outputs": [
    {
     "data": {
      "text/html": [
       "<div>\n",
       "<style scoped>\n",
       "    .dataframe tbody tr th:only-of-type {\n",
       "        vertical-align: middle;\n",
       "    }\n",
       "\n",
       "    .dataframe tbody tr th {\n",
       "        vertical-align: top;\n",
       "    }\n",
       "\n",
       "    .dataframe thead th {\n",
       "        text-align: right;\n",
       "    }\n",
       "</style>\n",
       "<table border=\"1\" class=\"dataframe\">\n",
       "  <thead>\n",
       "    <tr style=\"text-align: right;\">\n",
       "      <th></th>\n",
       "      <th>nombres</th>\n",
       "      <th>fechas</th>\n",
       "      <th>saldo</th>\n",
       "    </tr>\n",
       "  </thead>\n",
       "  <tbody>\n",
       "    <tr>\n",
       "      <th>0</th>\n",
       "      <td>Juan Pérez</td>\n",
       "      <td>1995-12-21</td>\n",
       "      <td>2500.0</td>\n",
       "    </tr>\n",
       "    <tr>\n",
       "      <th>1</th>\n",
       "      <td>María Sánchez</td>\n",
       "      <td>1989-01-13</td>\n",
       "      <td>5345.0</td>\n",
       "    </tr>\n",
       "    <tr>\n",
       "      <th>3</th>\n",
       "      <td>Rodrigo Martínez</td>\n",
       "      <td>1993-07-08</td>\n",
       "      <td>11323.2</td>\n",
       "    </tr>\n",
       "  </tbody>\n",
       "</table>\n",
       "</div>"
      ],
      "text/plain": [
       "            nombres     fechas    saldo\n",
       "0        Juan Pérez 1995-12-21   2500.0\n",
       "1     María Sánchez 1989-01-13   5345.0\n",
       "3  Rodrigo Martínez 1993-07-08  11323.2"
      ]
     },
     "execution_count": 53,
     "metadata": {},
     "output_type": "execute_result"
    }
   ],
   "source": [
    "df.loc[df['al_corriente'], 'nombres':'saldo']"
   ]
  },
  {
   "cell_type": "code",
   "execution_count": 54,
   "id": "18723789",
   "metadata": {
    "scrolled": true
   },
   "outputs": [
    {
     "data": {
      "text/html": [
       "<div>\n",
       "<style scoped>\n",
       "    .dataframe tbody tr th:only-of-type {\n",
       "        vertical-align: middle;\n",
       "    }\n",
       "\n",
       "    .dataframe tbody tr th {\n",
       "        vertical-align: top;\n",
       "    }\n",
       "\n",
       "    .dataframe thead th {\n",
       "        text-align: right;\n",
       "    }\n",
       "</style>\n",
       "<table border=\"1\" class=\"dataframe\">\n",
       "  <thead>\n",
       "    <tr style=\"text-align: right;\">\n",
       "      <th></th>\n",
       "      <th>nombres</th>\n",
       "      <th>fechas</th>\n",
       "      <th>saldo</th>\n",
       "      <th>al_corriente</th>\n",
       "    </tr>\n",
       "  </thead>\n",
       "  <tbody>\n",
       "    <tr>\n",
       "      <th>0</th>\n",
       "      <td>Juan Pérez</td>\n",
       "      <td>1995-12-21</td>\n",
       "      <td>2500.0</td>\n",
       "      <td>True</td>\n",
       "    </tr>\n",
       "    <tr>\n",
       "      <th>1</th>\n",
       "      <td>María Sánchez</td>\n",
       "      <td>1989-01-13</td>\n",
       "      <td>5345.0</td>\n",
       "      <td>True</td>\n",
       "    </tr>\n",
       "    <tr>\n",
       "      <th>2</th>\n",
       "      <td>Jorge Vargas</td>\n",
       "      <td>1992-09-14</td>\n",
       "      <td>NaN</td>\n",
       "      <td>False</td>\n",
       "    </tr>\n",
       "    <tr>\n",
       "      <th>3</th>\n",
       "      <td>Rodrigo Martínez</td>\n",
       "      <td>1993-07-08</td>\n",
       "      <td>11323.2</td>\n",
       "      <td>True</td>\n",
       "    </tr>\n",
       "  </tbody>\n",
       "</table>\n",
       "</div>"
      ],
      "text/plain": [
       "            nombres     fechas    saldo  al_corriente\n",
       "0        Juan Pérez 1995-12-21   2500.0          True\n",
       "1     María Sánchez 1989-01-13   5345.0          True\n",
       "2      Jorge Vargas 1992-09-14      NaN         False\n",
       "3  Rodrigo Martínez 1993-07-08  11323.2          True"
      ]
     },
     "execution_count": 54,
     "metadata": {},
     "output_type": "execute_result"
    }
   ],
   "source": [
    "df"
   ]
  },
  {
   "cell_type": "code",
   "execution_count": 57,
   "id": "e09c7ffc",
   "metadata": {},
   "outputs": [
    {
     "data": {
      "text/html": [
       "<div>\n",
       "<style scoped>\n",
       "    .dataframe tbody tr th:only-of-type {\n",
       "        vertical-align: middle;\n",
       "    }\n",
       "\n",
       "    .dataframe tbody tr th {\n",
       "        vertical-align: top;\n",
       "    }\n",
       "\n",
       "    .dataframe thead th {\n",
       "        text-align: right;\n",
       "    }\n",
       "</style>\n",
       "<table border=\"1\" class=\"dataframe\">\n",
       "  <thead>\n",
       "    <tr style=\"text-align: right;\">\n",
       "      <th></th>\n",
       "      <th>nombres</th>\n",
       "      <th>fechas</th>\n",
       "      <th>saldo</th>\n",
       "      <th>al_corriente</th>\n",
       "    </tr>\n",
       "  </thead>\n",
       "  <tbody>\n",
       "    <tr>\n",
       "      <th>0</th>\n",
       "      <td>False</td>\n",
       "      <td>False</td>\n",
       "      <td>False</td>\n",
       "      <td>False</td>\n",
       "    </tr>\n",
       "    <tr>\n",
       "      <th>1</th>\n",
       "      <td>False</td>\n",
       "      <td>False</td>\n",
       "      <td>False</td>\n",
       "      <td>False</td>\n",
       "    </tr>\n",
       "    <tr>\n",
       "      <th>2</th>\n",
       "      <td>False</td>\n",
       "      <td>False</td>\n",
       "      <td>True</td>\n",
       "      <td>False</td>\n",
       "    </tr>\n",
       "    <tr>\n",
       "      <th>3</th>\n",
       "      <td>False</td>\n",
       "      <td>False</td>\n",
       "      <td>False</td>\n",
       "      <td>False</td>\n",
       "    </tr>\n",
       "  </tbody>\n",
       "</table>\n",
       "</div>"
      ],
      "text/plain": [
       "   nombres  fechas  saldo  al_corriente\n",
       "0    False   False  False         False\n",
       "1    False   False  False         False\n",
       "2    False   False   True         False\n",
       "3    False   False  False         False"
      ]
     },
     "execution_count": 57,
     "metadata": {},
     "output_type": "execute_result"
    }
   ],
   "source": [
    "df.isnull()"
   ]
  },
  {
   "cell_type": "code",
   "execution_count": 56,
   "id": "e7e7f465",
   "metadata": {},
   "outputs": [
    {
     "data": {
      "text/html": [
       "<div>\n",
       "<style scoped>\n",
       "    .dataframe tbody tr th:only-of-type {\n",
       "        vertical-align: middle;\n",
       "    }\n",
       "\n",
       "    .dataframe tbody tr th {\n",
       "        vertical-align: top;\n",
       "    }\n",
       "\n",
       "    .dataframe thead th {\n",
       "        text-align: right;\n",
       "    }\n",
       "</style>\n",
       "<table border=\"1\" class=\"dataframe\">\n",
       "  <thead>\n",
       "    <tr style=\"text-align: right;\">\n",
       "      <th></th>\n",
       "      <th>nombres</th>\n",
       "      <th>fechas</th>\n",
       "      <th>saldo</th>\n",
       "      <th>al_corriente</th>\n",
       "    </tr>\n",
       "  </thead>\n",
       "  <tbody>\n",
       "    <tr>\n",
       "      <th>0</th>\n",
       "      <td>False</td>\n",
       "      <td>False</td>\n",
       "      <td>False</td>\n",
       "      <td>False</td>\n",
       "    </tr>\n",
       "    <tr>\n",
       "      <th>1</th>\n",
       "      <td>False</td>\n",
       "      <td>False</td>\n",
       "      <td>False</td>\n",
       "      <td>False</td>\n",
       "    </tr>\n",
       "    <tr>\n",
       "      <th>2</th>\n",
       "      <td>False</td>\n",
       "      <td>False</td>\n",
       "      <td>True</td>\n",
       "      <td>False</td>\n",
       "    </tr>\n",
       "    <tr>\n",
       "      <th>3</th>\n",
       "      <td>False</td>\n",
       "      <td>False</td>\n",
       "      <td>False</td>\n",
       "      <td>False</td>\n",
       "    </tr>\n",
       "  </tbody>\n",
       "</table>\n",
       "</div>"
      ],
      "text/plain": [
       "   nombres  fechas  saldo  al_corriente\n",
       "0    False   False  False         False\n",
       "1    False   False  False         False\n",
       "2    False   False   True         False\n",
       "3    False   False  False         False"
      ]
     },
     "execution_count": 56,
     "metadata": {},
     "output_type": "execute_result"
    }
   ],
   "source": [
    "df_null = df.isnull()\n",
    "df_null"
   ]
  },
  {
   "cell_type": "code",
   "execution_count": 60,
   "id": "3e768955",
   "metadata": {
    "scrolled": true
   },
   "outputs": [
    {
     "name": "stdout",
     "output_type": "stream",
     "text": [
      "<class 'pandas.core.series.Series'>\n"
     ]
    },
    {
     "data": {
      "text/plain": [
       "nombres         0\n",
       "fechas          0\n",
       "saldo           1\n",
       "al_corriente    0\n",
       "dtype: int64"
      ]
     },
     "execution_count": 60,
     "metadata": {},
     "output_type": "execute_result"
    }
   ],
   "source": [
    "#Visualizar el numero de datos faltantes por columna\n",
    "print(type(df.isnull().sum()))\n",
    "df.isnull().sum()"
   ]
  },
  {
   "cell_type": "code",
   "execution_count": 59,
   "id": "3e34ec7d",
   "metadata": {
    "scrolled": true
   },
   "outputs": [
    {
     "data": {
      "text/plain": [
       "1"
      ]
     },
     "execution_count": 59,
     "metadata": {},
     "output_type": "execute_result"
    }
   ],
   "source": [
    "#Visualizar el numero de datos faltantes Total\n",
    "df.isnull().sum().sum()"
   ]
  },
  {
   "cell_type": "code",
   "execution_count": 62,
   "id": "87bedca1",
   "metadata": {
    "scrolled": true
   },
   "outputs": [
    {
     "name": "stdout",
     "output_type": "stream",
     "text": [
      "<class 'numpy.ndarray'>\n"
     ]
    },
    {
     "data": {
      "text/plain": [
       "array([[False, False, False, False],\n",
       "       [False, False, False, False],\n",
       "       [False, False,  True, False],\n",
       "       [False, False, False, False]])"
      ]
     },
     "execution_count": 62,
     "metadata": {},
     "output_type": "execute_result"
    }
   ],
   "source": [
    "print(type(df.isnull().values))\n",
    "df.isnull().values"
   ]
  },
  {
   "cell_type": "code",
   "execution_count": 63,
   "id": "c373d675",
   "metadata": {},
   "outputs": [
    {
     "data": {
      "text/plain": [
       "True"
      ]
     },
     "execution_count": 63,
     "metadata": {},
     "output_type": "execute_result"
    }
   ],
   "source": [
    "df.isnull().values.any()"
   ]
  },
  {
   "cell_type": "code",
   "execution_count": 64,
   "id": "b5d015c6",
   "metadata": {},
   "outputs": [
    {
     "data": {
      "text/plain": [
       "nombres         False\n",
       "fechas          False\n",
       "saldo            True\n",
       "al_corriente    False\n",
       "dtype: bool"
      ]
     },
     "execution_count": 64,
     "metadata": {},
     "output_type": "execute_result"
    }
   ],
   "source": [
    "df.isnull().any()"
   ]
  },
  {
   "cell_type": "code",
   "execution_count": null,
   "id": "357231e4",
   "metadata": {
    "scrolled": true
   },
   "outputs": [],
   "source": [
    "df[df.isnull().any(1)]"
   ]
  }
 ],
 "metadata": {
  "kernelspec": {
   "display_name": "Python 3 (ipykernel)",
   "language": "python",
   "name": "python3"
  },
  "language_info": {
   "codemirror_mode": {
    "name": "ipython",
    "version": 3
   },
   "file_extension": ".py",
   "mimetype": "text/x-python",
   "name": "python",
   "nbconvert_exporter": "python",
   "pygments_lexer": "ipython3",
   "version": "3.10.9"
  }
 },
 "nbformat": 4,
 "nbformat_minor": 5
}
