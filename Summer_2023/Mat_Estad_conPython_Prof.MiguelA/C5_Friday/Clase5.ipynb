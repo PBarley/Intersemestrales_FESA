{
 "cells": [
  {
   "cell_type": "markdown",
   "id": "2d0d2526",
   "metadata": {},
   "source": [
    "## Clase 5"
   ]
  },
  {
   "cell_type": "markdown",
   "id": "13744afc",
   "metadata": {},
   "source": [
    "CONCEPTOS\n",
    "- Variables, cada uno de los datos\n",
    "- Frecuencia absoluta: Interactua directamente con las variables.\n",
    "- Frecuencias relativas: "
   ]
  },
  {
   "cell_type": "code",
   "execution_count": 4,
   "id": "35069ec7",
   "metadata": {},
   "outputs": [],
   "source": [
    "import matplotlib.pyplot as plt\n",
    "import numpy as np\n",
    "import statistics as sts"
   ]
  },
  {
   "cell_type": "code",
   "execution_count": 5,
   "id": "72193c91",
   "metadata": {
    "scrolled": true
   },
   "outputs": [
    {
     "name": "stdout",
     "output_type": "stream",
     "text": [
      "Altura maxima:  1.3\n",
      "Altura minimo:  1.2\n",
      "Rango:  0.099999905\n",
      "Los 5 estudiantes más altos [1.29 1.29 1.3  1.3  1.3 ]\n",
      "Los 5 estudiantes más bajos [1.2  1.21 1.21 1.21 1.21]\n",
      "Estudiantes de 1.25 o mas de altura:  18\n",
      "% de estudiante 1.24 <= x < 1.28  30.0 %\n"
     ]
    }
   ],
   "source": [
    "arg1 = np.loadtxt('./datos0.csv', delimiter=',', dtype=np.float32)  #Datos\n",
    "# print(arg1)\n",
    "print(\"Altura maxima: \", np.max(arg1))\n",
    "print(\"Altura minimo: \", np.min(arg1))\n",
    "print(\"Rango: \", np.max(arg1) - np.min(arg1))\n",
    "arg2 = np.sort(arg1) #Ordena de menor a mayor\n",
    "print(\"Los 5 estudiantes más altos\", arg2[-5:])\n",
    "print(\"Los 5 estudiantes más bajos\", arg2[:5])\n",
    "#Mayor o igual\n",
    "#suma1_25 = np.where(arg1>=1.25,1,0).sum()\n",
    "suma1_25 = np.where(arg2>=1.25,1,0).sum()\n",
    "print(\"Estudiantes de 1.25 o mas de altura: \", suma1_25)\n",
    "sumaDos = np.where((arg2>=1.24) & (arg2<1.28),1,0).sum()/30\n",
    "print(\"% de estudiante 1.24 <= x < 1.28 \", sumaDos*100,\"%\")\n"
   ]
  },
  {
   "cell_type": "code",
   "execution_count": 7,
   "id": "0f3e52b2",
   "metadata": {
    "scrolled": true
   },
   "outputs": [
    {
     "name": "stdout",
     "output_type": "stream",
     "text": [
      "[1.2  1.21 1.22 1.23 1.24 1.25 1.26 1.27 1.28 1.29 1.3 ] [1 4 4 2 1 2 3 3 4 3 3]\n",
      "\n",
      " [1 4 4 2 1 2 3 3 4 3 3] \n",
      " [ 1  5  9 11 12 14 17 20 24 27 30] \n",
      " [ 3.33 13.33 13.33  6.67  3.33  6.67 10.   10.   13.33 10.   10.  ] \n",
      " [ 3.33 16.66 29.99 36.66 39.99 46.66 56.66 66.66 79.99 89.99 99.99]\n"
     ]
    },
    {
     "data": {
      "image/png": "[encoded data removed]",
      "text/plain": [
       "<Figure size 640x480 with 1 Axes>"
      ]
     },
     "metadata": {},
     "output_type": "display_data"
    }
   ],
   "source": [
    "#FRECUENCIAS\n",
    "fig, ax = plt.subplots()\n",
    "variables, repetidas = np.unique(arg2, return_counts = True)\n",
    "print(variables, repetidas)\n",
    "frecuencias_absolutas_simple = repetidas\n",
    "frecuencias_absolutas_acumuladas = np.cumsum(frecuencias_absolutas_simple)\n",
    "frecuencias_relativas_simple = np.round((frecuencias_absolutas_simple/30) * 100, 2)\n",
    "frecuencias_relativas_acumuladas = np.cumsum(frecuencias_relativas_simple)\n",
    "#print(\"\\n\",frecuencias_absolutas_simple, \"\\n\", frecuencias_absolutas_acumuladas, \"\\n\", frecuencias_relativas_simple, \"\\n\", frecuencias_relativas_acumuladas )\n",
    "\n",
    "\n",
    "#GRAFICAR\n",
    "b = np.append(variables, 1.31)\n",
    "frecuencias = ax.hist(arg2, bins=b, linewidth=.5, edgecolor=\"white\")\n",
    "ax.set(xlim=(1.19, 1.32), xticks=np.arange(1.2, 1.32,.01),\n",
    "       ylim=(1, 7), yticks=np.linspace(0, 6, 7,dtype=np.int16))\n",
    "ax.set_axisbelow(True)\n",
    "ax.grid()\n",
    "plt.show()\n",
    "\n"
   ]
  },
  {
   "cell_type": "code",
   "execution_count": 10,
   "id": "9b6bab02",
   "metadata": {},
   "outputs": [
    {
     "name": "stdout",
     "output_type": "stream",
     "text": [
      "Media Aritmetica de valores agrupados:  1.253333330154419\n",
      "Media Aritmetica de valores No agrupados:  1.2533334096272786\n",
      "No agrupados usando Numpy:  1.2533334 \n",
      "\n",
      "\n",
      "1.252927267164492\n",
      "1.252927269471094\n",
      "1.252927267164492\n",
      "1.2525204001195311\n",
      "1.26\n",
      "1.21\n",
      "[1.21, 1.22, 1.28]\n",
      "[1.22, 1.26, 1.28]\n",
      "[1.21, 1.22, 1.22, 1.24, 1.26, 1.27, 1.28, 1.29, 1.3]\n",
      "[1.19, 1.2, 1.2, 1.2, 1.21, 1.21, 1.21, 1.21, 1.21, 1.21, 1.21, 1.21, 1.21, 1.21, 1.21, 1.21, 1.21, 1.22, 1.22, 1.22, 1.22, 1.22, 1.22, 1.22, 1.22, 1.22, 1.22, 1.22, 1.22, 1.22, 1.23, 1.23, 1.23, 1.23, 1.23, 1.23, 1.23, 1.24, 1.24, 1.24, 1.25, 1.25, 1.25, 1.25, 1.25, 1.25, 1.26, 1.26, 1.26, 1.26, 1.26, 1.26, 1.26, 1.26, 1.26, 1.26, 1.27, 1.27, 1.27, 1.27, 1.27, 1.27, 1.27, 1.27, 1.27, 1.27, 1.28, 1.28, 1.28, 1.28, 1.28, 1.28, 1.28, 1.28, 1.28, 1.28, 1.28, 1.28, 1.28, 1.29, 1.29, 1.29, 1.29, 1.29, 1.29, 1.29, 1.29, 1.29, 1.3, 1.3, 1.3, 1.3, 1.3, 1.3, 1.3, 1.3, 1.3, 1.3, 1.3]\n"
     ]
    }
   ],
   "source": [
    "#Media Aritmetica de valores agrupados\n",
    "ma_agrupados = variables * repetidas\n",
    "print(\"Media Aritmetica de valores agrupados: \", np.sum(ma_agrupados)/30)\n",
    "# No agrupados\n",
    "print(\"Media Aritmetica de valores No agrupados: \", np.sum(arg2)/30)\n",
    "#No agrupados usando Numpy\n",
    "print(\"No agrupados usando Numpy: \", np.mean(arg2), \"\\n\\n\")\n",
    "\n",
    "\n",
    "#Media Geométrica datos agrupados\n",
    "media_g_agrupados=np.power(np.product(variables**repetidas),1/30)\n",
    "print(media_g_agrupados)\n",
    "#Media Geométrica de datos no agrupados\n",
    "media_g_noagrupados=np.power(np.product(arg2),1/30)\n",
    "print(media_g_noagrupados)\n",
    "#Media Geométrica con statistics\n",
    "print(sts.geometric_mean(arg2))\n",
    "#Media armónica H\n",
    "print(sts.harmonic_mean(arg2))\n",
    "#Mediana\n",
    "print(np.median(arg2))\n",
    "#Moda\n",
    "print(sts.mode(arg2))\n",
    "\n",
    "\n",
    "#Multiples modas (distribución bimodal)\n",
    "print(sts.multimode(arg2))\n",
    "#Cuartiles\n",
    "print([round(q, 2) for q in sts.quantiles(arg2, n=4)])\n",
    "#Deciles\n",
    "print([round(q, 2) for q in sts.quantiles(arg2, n=10)])\n",
    "#percentiles\n",
    "print([round(q, 2) for q in sts.quantiles(arg2, n=100)])"
   ]
  }
 ],
 "metadata": {
  "kernelspec": {
   "display_name": "Python 3 (ipykernel)",
   "language": "python",
   "name": "python3"
  },
  "language_info": {
   "codemirror_mode": {
    "name": "ipython",
    "version": 3
   },
   "file_extension": ".py",
   "mimetype": "text/x-python",
   "name": "python",
   "nbconvert_exporter": "python",
   "pygments_lexer": "ipython3",
   "version": "3.10.9"
  }
 },
 "nbformat": 4,
 "nbformat_minor": 5
}
