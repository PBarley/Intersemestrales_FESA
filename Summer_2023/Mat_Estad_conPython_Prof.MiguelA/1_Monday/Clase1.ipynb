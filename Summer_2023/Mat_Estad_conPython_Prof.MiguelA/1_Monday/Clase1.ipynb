{
 "cells": [
  {
   "cell_type": "markdown",
   "id": "a4de97aa",
   "metadata": {},
   "source": [
    "## Inicio de clase \n",
    "\n",
    "m - es para activar el texto\n",
    "b - nueva linea o celda\n",
    "dd - delete la celda\n",
    "\n"
   ]
  },
  {
   "cell_type": "markdown",
   "id": "72f5e663",
   "metadata": {},
   "source": [
    "## Tipos de Datos con Python "
   ]
  },
  {
   "cell_type": "code",
   "execution_count": 1,
   "id": "6b258ffd",
   "metadata": {},
   "outputs": [],
   "source": [
    "from decimal import Decimal\n",
    "from decimal import getcontext\n",
    "from decimal import localcontext\n",
    "from fractions import Fraction\n",
    "import math\n",
    "\n",
    "ctx = getcontext()"
   ]
  },
  {
   "cell_type": "markdown",
   "id": "9a739b52",
   "metadata": {},
   "source": [
    "Tipo de dato deciml"
   ]
  },
  {
   "cell_type": "code",
   "execution_count": 7,
   "id": "81c77992",
   "metadata": {},
   "outputs": [
    {
     "name": "stdout",
     "output_type": "stream",
     "text": [
      "1.60\n"
     ]
    }
   ],
   "source": [
    "num1 = Decimal('1.12453213')\n",
    "print(num1 ** 4)"
   ]
  },
  {
   "cell_type": "code",
   "execution_count": 8,
   "id": "cb595d58",
   "metadata": {},
   "outputs": [
    {
     "name": "stdout",
     "output_type": "stream",
     "text": [
      "1.60\n"
     ]
    }
   ],
   "source": [
    "ctx.prec = 3\n",
    "print (num1 ** 4)"
   ]
  },
  {
   "cell_type": "code",
   "execution_count": 9,
   "id": "dd9618fc",
   "metadata": {
    "scrolled": true
   },
   "outputs": [
    {
     "name": "stdout",
     "output_type": "stream",
     "text": [
      "1.6\n",
      "1.60\n"
     ]
    }
   ],
   "source": [
    "with localcontext() as ctx:\n",
    "    ctx.prec = 2\n",
    "    print(num1 ** 4)\n",
    "print(num1 ** 4)"
   ]
  },
  {
   "cell_type": "code",
   "execution_count": 10,
   "id": "03586312",
   "metadata": {},
   "outputs": [
    {
     "name": "stdout",
     "output_type": "stream",
     "text": [
      "(4+2j)\n"
     ]
    }
   ],
   "source": [
    "z = 1 + 2j\n",
    "print(z + 3)"
   ]
  },
  {
   "cell_type": "code",
   "execution_count": 11,
   "id": "c6103ff5",
   "metadata": {},
   "outputs": [
    {
     "name": "stdout",
     "output_type": "stream",
     "text": [
      "7/10\n"
     ]
    }
   ],
   "source": [
    "num2 = Fraction(1, 2)\n",
    "num3 = Fraction(1, 5)\n",
    "print(num2 + num3)"
   ]
  },
  {
   "cell_type": "code",
   "execution_count": 12,
   "id": "14450605",
   "metadata": {
    "scrolled": true
   },
   "outputs": [
    {
     "name": "stdout",
     "output_type": "stream",
     "text": [
      "8.0\n"
     ]
    }
   ],
   "source": [
    "print(math.sqrt(64))"
   ]
  },
  {
   "cell_type": "code",
   "execution_count": 13,
   "id": "86dec21e",
   "metadata": {},
   "outputs": [
    {
     "name": "stdout",
     "output_type": "stream",
     "text": [
      "0.7071067811865476\n",
      "0.7071067811865476\n",
      "0.9999999999999999\n"
     ]
    }
   ],
   "source": [
    "theta = math.pi/4\n",
    "print(math.sin(theta))\n",
    "print(math.cos(theta))\n",
    "print(math.tan(theta))"
   ]
  },
  {
   "cell_type": "code",
   "execution_count": 14,
   "id": "1776a267",
   "metadata": {},
   "outputs": [
    {
     "name": "stdout",
     "output_type": "stream",
     "text": [
      "1.0\n",
      "2.0\n",
      "2.302585092994046\n"
     ]
    }
   ],
   "source": [
    "print(math.log(10, 10))\n",
    "print(math.log(25, 5))\n",
    "print(math.log(10)) #Base e"
   ]
  },
  {
   "cell_type": "code",
   "execution_count": 16,
   "id": "62e37b5a",
   "metadata": {},
   "outputs": [
    {
     "name": "stdout",
     "output_type": "stream",
     "text": [
      "2\n"
     ]
    }
   ],
   "source": [
    "print(math.gcd(2, 4, 8))"
   ]
  },
  {
   "cell_type": "code",
   "execution_count": 20,
   "id": "0315caad",
   "metadata": {},
   "outputs": [
    {
     "name": "stdout",
     "output_type": "stream",
     "text": [
      "3\n",
      "6\n",
      "24\n"
     ]
    }
   ],
   "source": [
    "print(math.comb(3, 2)) # No importa el orden\n",
    "print(math.perm(3, 2)) # Sí importa el orden \n",
    "print(math.factorial(4))"
   ]
  },
  {
   "cell_type": "code",
   "execution_count": 23,
   "id": "daf56a9b",
   "metadata": {},
   "outputs": [
    {
     "name": "stdout",
     "output_type": "stream",
     "text": [
      "[0.1, 0.1, 0.1, 0.1, 0.1, 0.1, 0.1, 0.1, 0.1, 0.1]\n",
      "0.9999999999999999\n",
      "1.0\n"
     ]
    }
   ],
   "source": [
    "listNum = [.1] * 10\n",
    "print(listNum)\n",
    "print(sum(listNum))\n",
    "print(math.fsum(listNum)) #Redondea al más proximo"
   ]
  },
  {
   "cell_type": "code",
   "execution_count": 24,
   "id": "d90931ad",
   "metadata": {},
   "outputs": [
    {
     "name": "stdout",
     "output_type": "stream",
     "text": [
      "1\n",
      "2\n"
     ]
    }
   ],
   "source": [
    "print(math.floor(1.65))\n",
    "print(math.ceil(1.3)) #El entero cercano más próximo"
   ]
  }
 ],
 "metadata": {
  "kernelspec": {
   "display_name": "Python 3 (ipykernel)",
   "language": "python",
   "name": "python3"
  },
  "language_info": {
   "codemirror_mode": {
    "name": "ipython",
    "version": 3
   },
   "file_extension": ".py",
   "mimetype": "text/x-python",
   "name": "python",
   "nbconvert_exporter": "python",
   "pygments_lexer": "ipython3",
   "version": "3.10.9"
  }
 },
 "nbformat": 4,
 "nbformat_minor": 5
}
