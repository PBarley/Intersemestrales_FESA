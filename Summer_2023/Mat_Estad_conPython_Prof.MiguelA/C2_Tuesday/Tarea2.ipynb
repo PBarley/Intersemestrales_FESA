{
 "cells": [
  {
   "cell_type": "code",
   "execution_count": 1,
   "id": "60d138f4",
   "metadata": {},
   "outputs": [],
   "source": [
    "import numpy as np"
   ]
  },
  {
   "cell_type": "markdown",
   "id": "1ba44aff",
   "metadata": {},
   "source": [
    "#### Ejercicio 1"
   ]
  },
  {
   "cell_type": "code",
   "execution_count": 15,
   "id": "ec81d4ba",
   "metadata": {},
   "outputs": [
    {
     "name": "stdout",
     "output_type": "stream",
     "text": [
      "Matriz A\n",
      "[[ 1  4]\n",
      " [-1  3]\n",
      " [ 2 -9]]\n",
      "\n",
      "Matriz Cero\n",
      "[[0. 0.]\n",
      " [0. 0.]\n",
      " [0. 0.]]\n",
      "\n",
      "---------------------------------\n",
      "\n",
      "a. A + O = A − O = A\n",
      "[[ 1.  4.]\n",
      " [-1.  3.]\n",
      " [ 2. -9.]]\n",
      "\n",
      "b. A − A = O\n",
      "[[0 0]\n",
      " [0 0]\n",
      " [0 0]]\n"
     ]
    }
   ],
   "source": [
    "A = np.array([[1,4], [-1,3], [2,-9]])\n",
    "cero = np.zeros((3,2))\n",
    "print(\"Matriz A\")\n",
    "print(A)\n",
    "print(\"\\nMatriz Cero\")\n",
    "print(cero)\n",
    "\n",
    "print(\"\\n---------------------------------\\n\")\n",
    "\n",
    "print(\"a. A + O = A − O = A\")\n",
    "r = A + cero\n",
    "print(r)\n",
    "\n",
    "print(\"\\nb. A − A = O\")\n",
    "r = A - A\n",
    "print(r)"
   ]
  },
  {
   "cell_type": "markdown",
   "id": "dcd729b5",
   "metadata": {},
   "source": [
    "#### Ejercicio 2"
   ]
  },
  {
   "cell_type": "code",
   "execution_count": 28,
   "id": "7774cd25",
   "metadata": {},
   "outputs": [
    {
     "name": "stdout",
     "output_type": "stream",
     "text": [
      "Matriz A\n",
      "[[ 3  0]\n",
      " [-1  5]]\n",
      "\n",
      "Matriz B\n",
      "[[ 4 -2  1]\n",
      " [ 0  2  3]]\n",
      "\n",
      "------A+3B------\n",
      "A+3B no se puede realizar, pues su numero de columnas no coinciden (2,2) (2,3) \n",
      "\n",
      "------AB------\n",
      "[[12 -6  3]\n",
      " [-4 12 14]]\n",
      "\n",
      "------A^3------\n",
      "[[ 27   0]\n",
      " [ -1 125]]\n",
      "\n",
      "------B^2------\n",
      "[[16  4  1]\n",
      " [ 0  4  9]]\n",
      "\n",
      "------(5A)B------\n",
      "[[ 60 -30  15]\n",
      " [-20  60  70]]\n"
     ]
    }
   ],
   "source": [
    "A = np.array([[3,0], [-1,5]])\n",
    "B = np.array([[4,-2,1], [0,2,3]])\n",
    "\n",
    "print(\"Matriz A\")\n",
    "print(A)\n",
    "print(\"\\nMatriz B\")\n",
    "print(B)\n",
    "\n",
    "print(\"\\n------A+3B------\")\n",
    "b = (3*B)\n",
    "#r = A + b\n",
    "print(\"A+3B no se puede realizar, pues su numero de columnas no coinciden (2,2) (2,3) \")\n",
    "\n",
    "print(\"\\n------AB------\")\n",
    "r = A@B\n",
    "print(r)\n",
    "\n",
    "print(\"\\n------A^3------\")\n",
    "r = A**3\n",
    "print(r)\n",
    "\n",
    "print(\"\\n------B^2------\")\n",
    "r = B**2\n",
    "print(r)\n",
    "\n",
    "print(\"\\n------(5A)B------\")\n",
    "r = (5*A)@B\n",
    "print(r)"
   ]
  },
  {
   "cell_type": "markdown",
   "id": "a3a0cb10",
   "metadata": {},
   "source": [
    "#### Ejercicio 3\n",
    "\n",
    "Dos restaurantes desean comprar frutas para la siguiente semana. La tabla 1 muestra que tipo de fruta y cantidad desean adquirir. Se tienen dos centros comerciales, la tabla 2 muestra sus precios. ¿Cuánto costara comprar las frutas para cada uno de los centros comerciales?"
   ]
  },
  {
   "cell_type": "code",
   "execution_count": 34,
   "id": "3d4e8bc6",
   "metadata": {},
   "outputs": [
    {
     "name": "stdout",
     "output_type": "stream",
     "text": [
      "Tabla1: Matriz Restaurante\n",
      "[[30 15  4]\n",
      " [25 18  8]]\n",
      "Tabla2 Transpuesta: Matriz Centro Comerc.\n",
      "[[1.2 1.3]\n",
      " [2.2 2.1]\n",
      " [4.5 4.6]]\n",
      "\n",
      "\n",
      "Resultado:\n",
      "[[ 87.   88.9]\n",
      " [105.6 107.1]]\n",
      "------------------------------------\n",
      "Centro comercial 1: $ 192.6\n",
      "Centro comercial 2: $ 196.0\n"
     ]
    }
   ],
   "source": [
    "rest=np.array([[30,15,4],[25,18,8]])\n",
    "cent_com=np.array([[1.2,2.2,4.5],[1.3,2.1,4.6]])\n",
    "t_cent_com = cent_com.T\n",
    "\n",
    "print(\"Tabla1: Matriz Restaurante\")\n",
    "print(rest)\n",
    "print(\"Tabla2 Transpuesta: Matriz Centro Comerc.\")\n",
    "print(t_cent_com)\n",
    "\n",
    "costoTienda=rest@t_cent_com\n",
    "print(\"\\n\\nResultado:\")\n",
    "print(costoTienda)\n",
    "print(\"------------------------------------\")\n",
    "print(\"Centro comercial 1: $\", (costoTienda[0,0]+costoTienda[1,0]))\n",
    "print(\"Centro comercial 2: $\", (costoTienda[0,1]+costoTienda[1,1]))\n"
   ]
  },
  {
   "cell_type": "markdown",
   "id": "3cd3d70d",
   "metadata": {},
   "source": [
    "#### Ejercicio 4\n",
    "\n",
    "Una fábrica elabora tres productos (escobas, escobetas, cepillos) y los envía a dos almacenes para su cuidado. El número de unidades esta dado en la tabla 3.\n",
    "\n",
    "El costo de embarcar por camión es por cada unidad de escoba es 1.50, escobetas 1.00 y cepillos 2.00, el costo por tren es escoba es 1.75, escobetas 1.50 y cepillos 1.00. Organizar la información en una matriz, para ocupar la multiplicación de matrices, dependiendo de los resultados, indica que le conviene a la empresa embarcar con camión o tren."
   ]
  },
  {
   "cell_type": "code",
   "execution_count": 46,
   "id": "6b2ee509",
   "metadata": {},
   "outputs": [
    {
     "name": "stdout",
     "output_type": "stream",
     "text": [
      "----Productos----\n",
      "[[200  75]\n",
      " [150 100]\n",
      " [100 125]]\n",
      "\n",
      "----Precios Camion y Tren----\n",
      "(Renglon0 = Camion, Renglon1 = Tren)\n",
      "[[1.5  1.   2.  ]\n",
      " [1.75 1.5  1.  ]]\n",
      "\n",
      "----Resultado----\n",
      "[[650.   462.5 ]\n",
      " [675.   406.25]]\n",
      "\n",
      "Entonces:\n",
      "Camion: $ 1112.5\n",
      "Tren: $ 1081.25\n",
      "\n",
      "Conviene en Tren\n"
     ]
    }
   ],
   "source": [
    "prod_almac=np.array([[200,75],[150,100],[100,125]])\n",
    "cam_tren=np.array([[1.5,1.0,2.0], [1.75,1.5,1.0]])\n",
    "\n",
    "\n",
    "print(\"----Productos----\")\n",
    "print(prod_almac)\n",
    "print(\"\\n----Precios Camion y Tren----\\n(Renglon0 = Camion, Renglon1 = Tren)\")\n",
    "print(cam_tren)\n",
    "\n",
    "result = cam_tren@prod_almac\n",
    "print(\"\\n----Resultado----\")\n",
    "print(result)\n",
    "\n",
    "print(\"\\nEntonces:\")\n",
    "print(\"Camion: $\", (result[0,0]+result[0,1]))\n",
    "print(\"Tren: $\", (result[1,0]+result[1,1]))\n",
    "print(\"\\nConviene en Tren\")"
   ]
  },
  {
   "cell_type": "markdown",
   "id": "69aaf042",
   "metadata": {},
   "source": [
    "#### Ejercicio 5\n",
    "\n",
    "Resolver el siguiente sistema de ecuaciones:"
   ]
  },
  {
   "cell_type": "code",
   "execution_count": 109,
   "id": "6d8419cb",
   "metadata": {},
   "outputs": [
    {
     "name": "stdout",
     "output_type": "stream",
     "text": [
      "Primer Sistema de Ecuaciones\n",
      "[[ 3  2  6]\n",
      " [ 6  4 -9]]\n",
      "Resultado: El sistema no tiene solución\n",
      "[[  0   0 -21]]\n",
      "-------------------------------------------\n",
      "\n",
      "Segundo Sistema de Ecuaciones\n",
      "[[ 1  1  3]\n",
      " [ 1 -4  1]]\n",
      "Resultado: \n",
      "x = 2.6  y   y = 0.4\n",
      "-------------------------------------------\n",
      "\n",
      "Tercer Sistema de Ecuaciones\n",
      "[[  2  -1   2   3]\n",
      " [  2   3  -1   0]\n",
      " [  1   2   2 -12]]\n",
      "Resultado: \n",
      "x = 3.6521739130434785,   y = -3.782608695652174   y   z=-4.043478260869565\n"
     ]
    }
   ],
   "source": [
    "mat1 = np.array([[3,2,6],[6,4,-9]])\n",
    "mat2 = np.array([[1,1,3],[1,-4,1]])\n",
    "mat3 = np.array([[2,-1,2,3],[2,3,-1,0],[1,2,2,-12]])\n",
    "\n",
    "\n",
    "print(\"Primer Sistema de Ecuaciones\")\n",
    "print(mat1)\n",
    "\n",
    "#Operaciones en la 1ra Matriz \n",
    "#Se realizan Slicings en la matriz para operar con vectores\n",
    "b1 = mat1[0:1:, ::] \n",
    "#print(b1)\n",
    "b2 = mat1[1:2:, ::]\n",
    "#print(b2)\n",
    "elim = -2\n",
    "op = (elim*b1) + b2\n",
    "#print(op)\n",
    "\n",
    "print(\"Resultado: El sistema no tiene solución\")\n",
    "print(op)\n",
    "print(\"-------------------------------------------\")\n",
    "\n",
    "\n",
    "\n",
    "\n",
    "print(\"\\nSegundo Sistema de Ecuaciones\")\n",
    "print(mat2)\n",
    "\n",
    "#Operaciones en la 2da Matriz \n",
    "#Se realizan Slicings en la matriz para operar con vectores\n",
    "b1 = mat2[0:1:, ::] \n",
    "#print(b1)\n",
    "b2 = mat2[1:2:, ::]\n",
    "#print(b2)\n",
    "elim = -1\n",
    "op = (elim*b1) + b2\n",
    "#print(op)\n",
    "y = op[0,2]/op[0,1]\n",
    "#print(y)\n",
    "x = (b1[0,2] - (y * b1[0,1])) / b2[0,0]\n",
    "#print(x)\n",
    "\n",
    "print(f\"Resultado: \\nx = {x}  y   y = {y}\")\n",
    "print(\"-------------------------------------------\")\n",
    "\n",
    "\n",
    "\n",
    "\n",
    "print(\"\\nTercer Sistema de Ecuaciones\")\n",
    "print(mat3)\n",
    "\n",
    "#Operaciones en la 3ra Matriz \n",
    "#Esta vez se empleará el comando np.linalg.solve() para resolver un sistema de ecuaciones lineales\n",
    "#Entonces:\n",
    "mat = mat3[::, :3:] \n",
    "#print(mat)\n",
    "sol = np.array([3,0,-12])\n",
    "#print(sol)\n",
    "sistema3 = np.linalg.solve(mat,sol)\n",
    "#print(sistema3)\n",
    "\n",
    "\n",
    "print(f\"Resultado: \\nx = {sistema3[0]},   y = {sistema3[1]}   y   z={sistema3[2]}\")\n"
   ]
  }
 ],
 "metadata": {
  "kernelspec": {
   "display_name": "Python 3 (ipykernel)",
   "language": "python",
   "name": "python3"
  },
  "language_info": {
   "codemirror_mode": {
    "name": "ipython",
    "version": 3
   },
   "file_extension": ".py",
   "mimetype": "text/x-python",
   "name": "python",
   "nbconvert_exporter": "python",
   "pygments_lexer": "ipython3",
   "version": "3.10.9"
  }
 },
 "nbformat": 4,
 "nbformat_minor": 5
}
