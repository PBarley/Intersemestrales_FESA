{
 "cells": [
  {
   "cell_type": "markdown",
   "id": "ad2c7a91",
   "metadata": {},
   "source": [
    "# Numpy"
   ]
  },
  {
   "cell_type": "code",
   "execution_count": 1,
   "id": "9dd7419e",
   "metadata": {},
   "outputs": [],
   "source": [
    "import numpy as np"
   ]
  },
  {
   "cell_type": "code",
   "execution_count": 3,
   "id": "24d73132",
   "metadata": {
    "scrolled": true
   },
   "outputs": [
    {
     "name": "stdout",
     "output_type": "stream",
     "text": [
      "[0 1 2 3 4 5]\n"
     ]
    }
   ],
   "source": [
    "# Toda operacion que se haga con np.array te regresa un arreglo\n",
    "vector = np. array([0, 1, 2, 3, 4, 5])\n",
    "print(vector)"
   ]
  },
  {
   "cell_type": "code",
   "execution_count": 13,
   "id": "28bf69fe",
   "metadata": {},
   "outputs": [
    {
     "name": "stdout",
     "output_type": "stream",
     "text": [
      "[1. 2. 3. 4. 5.]\n",
      "[0.0e+00 0.0e+00 6.0e-08 0.0e+00 1.2e-07 0.0e+00 1.8e-07 0.0e+00 2.4e-07\n",
      " 0.0e+00 3.0e-07 0.0e+00]\n",
      "[1. 2. 3. 4. 5.]\n"
     ]
    }
   ],
   "source": [
    "vectorDos = np.array([1, 2, 3, 4, 5], dtype = np.float32)\n",
    "print(vectorDos)\n",
    "\n",
    "vector.dtype = np.float16\n",
    "print(vector)\n",
    "\n",
    "vectorTres = np.array([1, 2, 3, 4, 5])\n",
    "vectorTres = vectorTres.astype(np.float32)\n",
    "print(vectorTres)"
   ]
  },
  {
   "cell_type": "code",
   "execution_count": 14,
   "id": "e30a17d5",
   "metadata": {},
   "outputs": [
    {
     "name": "stdout",
     "output_type": "stream",
     "text": [
      "4.0\n"
     ]
    }
   ],
   "source": [
    "#Acceso a los elementos en vectores uni... eso\n",
    "print(vectorTres[3])"
   ]
  },
  {
   "cell_type": "code",
   "execution_count": 18,
   "id": "bf59a300",
   "metadata": {},
   "outputs": [
    {
     "name": "stdout",
     "output_type": "stream",
     "text": [
      "[0 2 4 6]\n"
     ]
    }
   ],
   "source": [
    "#Tomar segmento de un vector. Slicing\n",
    "vectorCuatro = np.array([0,1,2,3,4,5,6,7,8,9,10,11,12,13,14,15])\n",
    "print(vectorCuatro[0:8:2])"
   ]
  },
  {
   "cell_type": "code",
   "execution_count": 28,
   "id": "86b24ffd",
   "metadata": {},
   "outputs": [
    {
     "name": "stdout",
     "output_type": "stream",
     "text": [
      "[ 0  0 -1]\n",
      "[0 2 5]\n",
      "[ 0 -1 -6]\n",
      "[0. 1. 2.]\n",
      "[0 2 4]\n",
      "[False  True  True]\n",
      "[1 1 4]\n"
     ]
    }
   ],
   "source": [
    "# OJO CON ESTO PAO: Operaciones de Vectores  (Y checar de paso las de matrices)\n",
    "a = np.array([0,1,2])\n",
    "b = np.array([0,-1,-3])\n",
    "c = np.array([1,1,1])\n",
    "print(a + b)\n",
    "print(a - b)\n",
    "print(a * b)\n",
    "print(a / c)\n",
    "print(2 * a)\n",
    "demo = a >= 1\n",
    "print(demo) #Evaluo elemento por elemento y regreso un boolean\n",
    "print(a ** a)\n"
   ]
  },
  {
   "cell_type": "markdown",
   "id": "258f0ce3",
   "metadata": {},
   "source": [
    "### Divición de la recta\n",
    "Rutinas linspace,arange para generar numeros entre un rango entre dos numeros dados. a<=x<=b -->linspace a<=x<b -->arange\n",
    "    \n",
    "    \n",
    "Tanto la función linspace como la función arange se utilizan para generar secuencias numéricas en Python, pero difieren en la forma en que generan los valores de la secuencia. La diferencia principal entre ambas:\n",
    "\n",
    "linspace: La función linspace (que significa \"espacio lineal\") genera una secuencia de números igualmente espaciados en un rango dado. Toma tres argumentos: el valor inicial, el valor final y el número de elementos que se desean generar. La función devuelve un arreglo NumPy con los valores distribuidos uniformemente entre el valor inicial y el valor final, incluyendo ambos extremos. La diferencia entre los valores consecutivos es constante.\n",
    "\n",
    "arange: La función arange genera una secuencia de números en un rango dado con un paso especificado. Toma hasta tres argumentos: el valor inicial (opcional), el valor final y el paso (opcional). La función devuelve un arreglo NumPy con los valores generados. La diferencia entre los valores consecutivos puede ser no uniforme si se especifica un paso no entero."
   ]
  },
  {
   "cell_type": "code",
   "execution_count": 43,
   "id": "369ccab0",
   "metadata": {},
   "outputs": [
    {
     "name": "stdout",
     "output_type": "stream",
     "text": [
      "[ 0.          1.07142857  2.14285714  3.21428571  4.28571429  5.35714286\n",
      "  6.42857143  7.5         8.57142857  9.64285714 10.71428571 11.78571429\n",
      " 12.85714286 13.92857143 15.        ]\n",
      "\n",
      "[ 0  1  2  3  4  5  6  7  8  9 10 11 12 13 14 15]\n"
     ]
    }
   ],
   "source": [
    "# Divición de la recta\n",
    "# En Linspace:\n",
    "#1: Num Inicio, 2: Num limite, 3:En cuantos segmentos se divide\n",
    "\n",
    "print(np.linspace(0,15,15))\n",
    "print()\n",
    "print(np.arange(0,16,1))"
   ]
  },
  {
   "cell_type": "code",
   "execution_count": 65,
   "id": "8d7b726c",
   "metadata": {},
   "outputs": [
    {
     "name": "stdout",
     "output_type": "stream",
     "text": [
      "[[1 2 3]\n",
      " [4 5 6]\n",
      " [7 8 3]]\n",
      "\n",
      "(3, 3)\n",
      "(16,)\n",
      "\n",
      "[1 2 3 4 5 6 7 8 3]\n",
      "[[1 2 3]\n",
      " [4 5 6]\n",
      " [7 8 3]]\n",
      "\n",
      "[[ 0  1  2  3]\n",
      " [ 4  5  6  7]\n",
      " [ 8  9 10 11]\n",
      " [12 13 14 15]]\n",
      "\n"
     ]
    }
   ],
   "source": [
    "#Redimencionamiento con Shape\n",
    "\n",
    "matrix = np.array([[1,2,3], [4,5,6], [7,8,3]])\n",
    "a = np.arange(0,16,1)\n",
    "\n",
    "print(matrix)\n",
    "print()\n",
    "print(matrix.shape)\n",
    "print(a.shape)\n",
    "print()\n",
    "\n",
    "nueva = matrix.reshape(9,)\n",
    "print(nueva)\n",
    "print(matrix)\n",
    "print()\n",
    "\n",
    "b = a.reshape(4,4)\n",
    "print(b)\n",
    "print()\n",
    "\n",
    "#ESTO QUE? No entendí\n",
    "mt1=[[34,3],[67,7]]\n",
    "mt2=[[11,2],[78,3]]\n",
    "mt3=[[23,32],[90,1]]\n",
    "arr1=np.array([mt1,mt2,mt3])"
   ]
  },
  {
   "cell_type": "markdown",
   "id": "2f97b136",
   "metadata": {},
   "source": [
    "### Indexación con cortes\n",
    "#### Matrices\n",
    "\n",
    "Filas, columnas, de cuanto en cuanto\n",
    "\n",
    "matriz[  inicio_fila  :  fin_fila  :  paso_fila,      inicio_columna  :  fin_columna  :  paso_columna]"
   ]
  },
  {
   "cell_type": "code",
   "execution_count": 64,
   "id": "fa20efcc",
   "metadata": {},
   "outputs": [
    {
     "name": "stdout",
     "output_type": "stream",
     "text": [
      "[[1 2 3]\n",
      " [4 5 6]\n",
      " [7 8 9]]\n",
      "(3, 3)\n",
      "--------Corte---------\n",
      "(1, 3)\n",
      "8\n"
     ]
    }
   ],
   "source": [
    "m = np.array([[1,2,3], [4,5,6], [7,8,9]])\n",
    "print(m)\n",
    "print(m.shape)\n",
    "\n",
    "print(\"--------Corte---------\")\n",
    "c1 = m[:2, 1:3]\n",
    "c2 = m[2:, :]\n",
    "print(c2.shape)\n",
    "print(c2[0][1])"
   ]
  },
  {
   "cell_type": "markdown",
   "id": "a1fdf860",
   "metadata": {},
   "source": [
    "### Sistema de Ecuaciones\n",
    "\n",
    "Gráficamente la solución de un sistema de ecuaciones es la intersección de dos rectas."
   ]
  },
  {
   "cell_type": "code",
   "execution_count": 72,
   "id": "fc796766",
   "metadata": {},
   "outputs": [
    {
     "name": "stdout",
     "output_type": "stream",
     "text": [
      "[2. 1.]\n",
      "\n",
      "[[ 2 -1]\n",
      " [ 1  3]]\n",
      "\n",
      "-------Multiplicación de Matrices--------\n",
      "[3. 5.]\n"
     ]
    }
   ],
   "source": [
    "A = np.array([[2,-1], [1,3]])\n",
    "b = np.array([3,5])\n",
    "c = np.linalg.solve(A,b)\n",
    "print(c)\n",
    "print()\n",
    "print(A)\n",
    "print()\n",
    "\n",
    "# @ = Multiplicación de matrices\n",
    "print(\"-------Multiplicación de Matrices--------\")\n",
    "print(A@c)"
   ]
  }
 ],
 "metadata": {
  "kernelspec": {
   "display_name": "Python 3 (ipykernel)",
   "language": "python",
   "name": "python3"
  },
  "language_info": {
   "codemirror_mode": {
    "name": "ipython",
    "version": 3
   },
   "file_extension": ".py",
   "mimetype": "text/x-python",
   "name": "python",
   "nbconvert_exporter": "python",
   "pygments_lexer": "ipython3",
   "version": "3.10.9"
  }
 },
 "nbformat": 4,
 "nbformat_minor": 5
}
