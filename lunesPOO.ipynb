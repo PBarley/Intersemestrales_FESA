{
  "nbformat": 4,
  "nbformat_minor": 0,
  "metadata": {
    "colab": {
      "provenance": [],
      "authorship_tag": "ABX9TyMJM9CwHs93HlxOSWKhWSIK",
      "include_colab_link": true
    },
    "kernelspec": {
      "name": "python3",
      "display_name": "Python 3"
    },
    "language_info": {
      "name": "python"
    }
  },
  "cells": [
    {
      "cell_type": "markdown",
      "metadata": {
        "id": "view-in-github",
        "colab_type": "text"
      },
      "source": [
        "<a href=\"https://colab.research.google.com/github/PBarley/Intersemestrales_Summer_2023/blob/POO_Python3_Prof.Jesus/lunesPOO.ipynb\" target=\"_parent\"><img src=\"https://colab.research.google.com/assets/colab-badge.svg\" alt=\"Open In Colab\"/></a>"
      ]
    },
    {
      "cell_type": "code",
      "execution_count": 3,
      "metadata": {
        "colab": {
          "base_uri": "https://localhost:8080/",
          "height": 53
        },
        "id": "EMfeyl3K3zM9",
        "outputId": "24c76bf7-5906-4882-d5ec-08d628bfb7a9"
      },
      "outputs": [
        {
          "output_type": "stream",
          "name": "stdout",
          "text": [
            "Hola Mundo\n"
          ]
        },
        {
          "output_type": "execute_result",
          "data": {
            "text/plain": [
              "'\\naasa\\nsasa\\naaaa\\nasaw\\na\\n'"
            ],
            "application/vnd.google.colaboratory.intrinsic+json": {
              "type": "string"
            }
          },
          "metadata": {},
          "execution_count": 3
        }
      ],
      "source": [
        "# Esto es un comentario\n",
        "print(\"Hola Mundo\")  # Esto imprime \"Hola Mundo\"\n",
        "\n",
        "\n",
        "# Colab lo interpreta como un String\n",
        "\"\"\"\n",
        "aasa\n",
        "sasa\n",
        "aaaa\n",
        "asaw\n",
        "a\n",
        "\"\"\""
      ]
    },
    {
      "cell_type": "code",
      "source": [
        "!ls -a"
      ],
      "metadata": {
        "colab": {
          "base_uri": "https://localhost:8080/"
        },
        "id": "IIs7tX856euF",
        "outputId": "d412b396-f878-4a6e-8158-587a9be6c0ec"
      },
      "execution_count": 2,
      "outputs": [
        {
          "output_type": "stream",
          "name": "stdout",
          "text": [
            ".  ..  .config\tsample_data\n"
          ]
        }
      ]
    },
    {
      "cell_type": "code",
      "source": [
        "print(\"Hola\", \"Mundo\")\n",
        " \n",
        "print(\"Hola\" + \"Mundo\")\n",
        " \n",
        "print(\"Hola\", \"Mundo\", sep=\"-\")  # Imprime: Hola-Mundo\n",
        " \n",
        "print(\"Hola\", end=\"\")\n",
        "print(\"Mundo\")  # Imprime: HolaMundo\n",
        " \n",
        " "
      ],
      "metadata": {
        "colab": {
          "base_uri": "https://localhost:8080/"
        },
        "id": "4rLmS7q-7CFD",
        "outputId": "def6c38d-ea5f-427f-8eb6-0a4f6332e70b"
      },
      "execution_count": 4,
      "outputs": [
        {
          "output_type": "stream",
          "name": "stdout",
          "text": [
            "Hola Mundo\n",
            "HolaMundo\n",
            "Hola-Mundo\n",
            "HolaMundo\n"
          ]
        }
      ]
    },
    {
      "cell_type": "code",
      "source": [
        "nombre = \"José\"\n",
        "carrera = \"ICO, la mejor\"\n",
        "print(\"Mi nombre es {1} y estudio {0} en la FES Aragón\".format(nombre, carrera))\n",
        "print (f\"Mi nombre es {nombre*2} y estudio en {carrera} dentro de la FES\")"
      ],
      "metadata": {
        "colab": {
          "base_uri": "https://localhost:8080/"
        },
        "id": "2hlbAR_37tlN",
        "outputId": "c36205b2-3a90-4f46-afb9-866ebe262c15"
      },
      "execution_count": 9,
      "outputs": [
        {
          "output_type": "stream",
          "name": "stdout",
          "text": [
            "Mi nombre es ICO, la mejor y estudio José en la FES Aragón\n",
            "Mi nombre es JoséJosé y estudio en ICO, la mejor dentro de la FES\n"
          ]
        }
      ]
    },
    {
      "cell_type": "code",
      "source": [
        " # Operadores aritméticos\n",
        "suma = 5 + 3    # 8\n",
        "resta = 5 - 3   # 2\n",
        "producto = 5 * 3  # 15\n",
        "division = 5 / 3  # 1.66667\n",
        "division2 = 5 // 3 # 1\n",
        "modulo = 5 % 3   # 2\n",
        "potencia = 5 ** 3  # 125"
      ],
      "metadata": {
        "id": "1VbJFN35_R04"
      },
      "execution_count": 13,
      "outputs": []
    },
    {
      "cell_type": "code",
      "source": [
        "# Operadores de comparación\n",
        "igual = 5 == 3  # False\n",
        "diferente = 5 != 3  # True\n",
        "mayor_que = 5 > 3  # True\n",
        "menor_que = 5 < 3  # False\n",
        "mayor_o_igual_que = 5 >= 3  # True\n",
        "menor_o_igual_que = 5 <= 3  # False\n"
      ],
      "metadata": {
        "id": "_Lu4F-LM_m4-"
      },
      "execution_count": 21,
      "outputs": []
    },
    {
      "cell_type": "code",
      "source": [
        "igual"
      ],
      "metadata": {
        "colab": {
          "base_uri": "https://localhost:8080/"
        },
        "id": "oVJyWdihASZD",
        "outputId": "59fe1316-1d5d-46ac-f182-f95e8b21021c"
      },
      "execution_count": 22,
      "outputs": [
        {
          "output_type": "execute_result",
          "data": {
            "text/plain": [
              "False"
            ]
          },
          "metadata": {},
          "execution_count": 22
        }
      ]
    },
    {
      "cell_type": "code",
      "source": [
        "# Operadores lógicos\n",
        "y = True and False  # False\n",
        "o = True or False  # True\n",
        "no = not True  # False"
      ],
      "metadata": {
        "id": "DJCG7T-p_6y_"
      },
      "execution_count": null,
      "outputs": []
    },
    {
      "cell_type": "code",
      "source": [
        "False or (True and False)"
      ],
      "metadata": {
        "colab": {
          "base_uri": "https://localhost:8080/"
        },
        "id": "e6hnQnEOAJT6",
        "outputId": "e9d9751e-0e5f-45e6-d369-7bcab09d8f63"
      },
      "execution_count": 23,
      "outputs": [
        {
          "output_type": "execute_result",
          "data": {
            "text/plain": [
              "False"
            ]
          },
          "metadata": {},
          "execution_count": 23
        }
      ]
    },
    {
      "cell_type": "code",
      "source": [
        "saludo = \"Hola Mundo\"\n",
        "cita = 'Los alumnos\\n de ICO\\t\\t  \\'dicen\\': \"Hola Mundo\"'\n",
        "parrafo = \"\"\"Esto es un párrafo\n",
        "que abarca varias\n",
        "líneas\"\"\"\n",
        "\n",
        "print (cita)"
      ],
      "metadata": {
        "colab": {
          "base_uri": "https://localhost:8080/"
        },
        "id": "ITsBdZzNA6p2",
        "outputId": "c7a8c6d2-994d-43bc-e2e2-0aeaed046cb8"
      },
      "execution_count": 32,
      "outputs": [
        {
          "output_type": "stream",
          "name": "stdout",
          "text": [
            "Los alumnos\n",
            " de ICO\t\t  'dicen': \"Hola Mundo\"\n"
          ]
        }
      ]
    },
    {
      "cell_type": "code",
      "source": [
        "def fn_uno():\n",
        "    print(\"Hola\")\n",
        " \n",
        "a, b, c = 10, \"Hola\", fn_uno\n",
        "print(a)\n",
        "print(b)\n",
        "print(c)\n",
        " \n",
        "c.__call__()"
      ],
      "metadata": {
        "colab": {
          "base_uri": "https://localhost:8080/"
        },
        "id": "zlOp-4cyA9rG",
        "outputId": "22f54953-3a42-431a-8b19-b6d2294c0ea0"
      },
      "execution_count": 36,
      "outputs": [
        {
          "output_type": "stream",
          "name": "stdout",
          "text": [
            "10\n",
            "Hola\n",
            "<function fn_uno at 0x7f02a2b36200>\n",
            "Hola\n"
          ]
        }
      ]
    },
    {
      "cell_type": "code",
      "source": [
        "# entrada por teclado\n",
        "nombre = input(\"Por favor, introduce tu nombre: \")\n",
        "print(f\"Hola {nombre}!\")"
      ],
      "metadata": {
        "colab": {
          "base_uri": "https://localhost:8080/"
        },
        "id": "hvFFhBWODTF8",
        "outputId": "6e77923f-8d30-41a2-aef6-518f33f40aad"
      },
      "execution_count": 35,
      "outputs": [
        {
          "output_type": "stream",
          "name": "stdout",
          "text": [
            "Por favor, introduce tu nombre: Pao\n",
            "Hola Pao!\n"
          ]
        }
      ]
    },
    {
      "cell_type": "code",
      "source": [
        "numero = int(\"20\")\n",
        "print(numero)\n",
        "\n",
        "\n",
        "\n",
        "edad = int(input(\"Introduce tu edad:\"))\n",
        "print(f\"{nombre} tiene {edad + 1} años\")"
      ],
      "metadata": {
        "colab": {
          "base_uri": "https://localhost:8080/"
        },
        "id": "LBAZNdRyDTDs",
        "outputId": "3c7e924e-ce29-4181-865d-ab606998dd5c"
      },
      "execution_count": 38,
      "outputs": [
        {
          "output_type": "stream",
          "name": "stdout",
          "text": [
            "20\n",
            "Introduce tu edad:21\n",
            "Pao tiene 22 años\n"
          ]
        }
      ]
    },
    {
      "cell_type": "code",
      "source": [
        "mensaje = \"Hola Mundo\"  # String\n",
        "edad = 20               # Integer\n",
        "pi = 3.14159            # Float\n",
        "es_mayor = True         # Boolean\n",
        "imaginario = 3 + 4j     # Imaginario\n",
        " \n",
        "print(pi * 2.0)"
      ],
      "metadata": {
        "colab": {
          "base_uri": "https://localhost:8080/"
        },
        "id": "xcGYJT7xEDzu",
        "outputId": "240386b8-997e-43c7-886a-abef40d51a86"
      },
      "execution_count": 43,
      "outputs": [
        {
          "output_type": "stream",
          "name": "stdout",
          "text": [
            "6.28318\n"
          ]
        }
      ]
    },
    {
      "cell_type": "markdown",
      "source": [
        "# Tipos de Datos Compuestos"
      ],
      "metadata": {
        "id": "1SyeN6boEiwN"
      }
    },
    {
      "cell_type": "code",
      "source": [
        "#LISTAS\n",
        "\"\"\" Se indexan \"\"\"\n",
        "\n",
        "#Indices:  0 (-3)     1 (-2)     2(-1)\n",
        "frutas = ['limon', 'aguacate', 'fresa']\n",
        "print(frutas[2])\n",
        "print(frutas[-1])\n",
        "\n",
        "\n",
        "\"\"\" Puede tener diferentes tipos de datos \"\"\"\n",
        "\n",
        "cosas = ['limon', 10, 3.1416, True, [1,2,3], \"hola\"]\n",
        "print(cosas)\n"
      ],
      "metadata": {
        "colab": {
          "base_uri": "https://localhost:8080/"
        },
        "id": "GHs15K3yEjBW",
        "outputId": "6a54b55f-99cc-4a6b-ce4e-e89eec56ffeb"
      },
      "execution_count": 47,
      "outputs": [
        {
          "output_type": "stream",
          "name": "stdout",
          "text": [
            "fresa\n",
            "fresa\n",
            "['limon', 10, 3.1416, True, [1, 2, 3], 'hola']\n"
          ]
        }
      ]
    },
    {
      "cell_type": "markdown",
      "source": [
        "# Slicing in Python\n",
        "\n",
        "[inicio : stop : step]\n",
        "\n",
        "\n",
        "Es la posibilidad de obtener rebanadas a partir de un tipo de datos de lista o tuplas, en generla de un iterador. Un tipo de dato String es un iterable.\n",
        "\n",
        "Por defecto:\n",
        "inicio = 0\n",
        "\n",
        "stop = al tamaño de la variable\n",
        "\n",
        "step = 1"
      ],
      "metadata": {
        "id": "cPosnuIEGDzT"
      }
    },
    {
      "cell_type": "code",
      "source": [
        "ejemplo = [1,2,3,4,5,6,'a','b','c','d','e']\n",
        "print(ejemplo)\n",
        "\n",
        "rebanada = ejemplo [2:6:1]\n",
        "print(rebanada)\n",
        "\n",
        "rebanada2 = ejemplo [6:9:1]\n",
        "print(rebanada2)\n"
      ],
      "metadata": {
        "colab": {
          "base_uri": "https://localhost:8080/"
        },
        "id": "yWRzwXWDHBQJ",
        "outputId": "b2dc91d4-b7cf-4d6c-ad19-738131b65e75"
      },
      "execution_count": 52,
      "outputs": [
        {
          "output_type": "stream",
          "name": "stdout",
          "text": [
            "[1, 2, 3, 4, 5, 6, 'a', 'b', 'c', 'd', 'e']\n",
            "[3, 4, 5, 6]\n",
            "['a', 'b', 'c']\n"
          ]
        }
      ]
    },
    {
      "cell_type": "code",
      "source": [
        "#TUPLAS       \n",
        "\"\"\" Inmutables \"\"\"\n",
        "\n",
        "frutas_dos= ('Aguacate', 'Limon', 'Naranja')\n",
        "print(frutas)\n",
        "print(frutas_dos)\n",
        "\n",
        "frutas[0]= 'Piña'\n",
        "\n",
        "#Inmutable:\n",
        "#frutas_dos[0] ='Piña'  \n",
        "\n",
        "print(frutas[1])\n",
        "print(frutas_dos[1])\n",
        "\n",
        "\n",
        "print(frutas_dos[1:2:1])\n",
        "print(frutas_dos[-1])\n"
      ],
      "metadata": {
        "colab": {
          "base_uri": "https://localhost:8080/"
        },
        "id": "ouJAwAThIsWm",
        "outputId": "1e68c61a-9562-4838-d79a-0c0d206af4df"
      },
      "execution_count": 69,
      "outputs": [
        {
          "output_type": "stream",
          "name": "stdout",
          "text": [
            "['Piña', 'Piña', 'fresa']\n",
            "('Aguacate', 'Limon', 'Naranja')\n",
            "Piña\n",
            "Limon\n",
            "('Limon',)\n",
            "Naranja\n"
          ]
        }
      ]
    },
    {
      "cell_type": "markdown",
      "source": [
        "# Diccionario Teoría\n",
        "\n",
        "1. Es un conjunto de pares llave valor\n",
        "1. Agrupados por ':'\n",
        "1. La llave siempre es de tipo String\n",
        "1. El valor puede ser de cualquier tipo\n",
        "1. El selector de la forma ['llave']\n",
        "1. Mutable\n",
        "1. Se declara entre los caracteres '{ y }'\n",
        "1. Los pares están separados por comas ','"
      ],
      "metadata": {
        "id": "oaNdg6HOKGt1"
      }
    },
    {
      "cell_type": "code",
      "source": [
        "# DICCIONARIO\n",
        "\n",
        "alumno = {'numero_cuenta' : 1232322, 'carrera' : 'ICO',\n",
        "          'direccion' : {'calle' : 'rancho seco', 'numero': 23}\n",
        "          }\n",
        "\n",
        "print (alumno['direccion'])\n",
        "\n",
        "# Imprimir 23 de la direccion\n",
        "print (alumno['direccion']['numero'])\n",
        "\n",
        "# Imprimir 'cho' de la calle\n",
        "print (alumno['direccion']['calle'][3:6:1])"
      ],
      "metadata": {
        "colab": {
          "base_uri": "https://localhost:8080/"
        },
        "id": "X5Qbvpz8J4hz",
        "outputId": "9b9b58b7-b43e-44e0-c601-542600b794e2"
      },
      "execution_count": 67,
      "outputs": [
        {
          "output_type": "stream",
          "name": "stdout",
          "text": [
            "{'calle': 'rancho seco', 'numero': 23}\n",
            "23\n",
            "cho\n"
          ]
        }
      ]
    }
  ]
}